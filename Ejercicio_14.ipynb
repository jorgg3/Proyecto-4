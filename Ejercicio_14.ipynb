{
  "nbformat": 4,
  "nbformat_minor": 0,
  "metadata": {
    "colab": {
      "provenance": [],
      "authorship_tag": "ABX9TyO+VQTNRl0khaVMhDywoNU6",
      "include_colab_link": true
    },
    "kernelspec": {
      "name": "python3",
      "display_name": "Python 3"
    },
    "language_info": {
      "name": "python"
    }
  },
  "cells": [
    {
      "cell_type": "markdown",
      "metadata": {
        "id": "view-in-github",
        "colab_type": "text"
      },
      "source": [
        "<a href=\"https://colab.research.google.com/github/jorgg3/Proyecto-4/blob/main/Ejercicio_14.ipynb\" target=\"_parent\"><img src=\"https://colab.research.google.com/assets/colab-badge.svg\" alt=\"Open In Colab\"/></a>"
      ]
    },
    {
      "cell_type": "markdown",
      "source": [
        "# Práctica 4: Solución a Sistemas de Ecuaciones No Lineales.\n",
        "# Ceros de funciones\n",
        "**Problemas Computacionales**\\\n",
        "Alumno: Martínez de la Cruz José Jorge\\\n",
        "Profesor: César Carreón Otañez\\\n",
        "Ayudante:  Jesús Iván Coss Calderón"
      ],
      "metadata": {
        "id": "oI039CDQG5M5"
      }
    },
    {
      "cell_type": "code",
      "source": [
        "import numpy as np\n",
        "import math\n",
        "from numpy import linalg as LA"
      ],
      "metadata": {
        "id": "bf0apSIEHNfJ"
      },
      "execution_count": 4,
      "outputs": []
    },
    {
      "cell_type": "markdown",
      "source": [
        "14. Para la función del ejercicio 14b resolverlo por la iteración de punto fijo."
      ],
      "metadata": {
        "id": "RWUHWZeMG6k_"
      }
    },
    {
      "cell_type": "markdown",
      "source": [
        "b)  Puntos iniciales $x_1 = \\frac{(1 + \\sqrt 3)}{2}$, $x_2 = \\frac{(1 −\\sqrt 3)}{2}$ y $x_3 = \\sqrt 3$\n",
        "$$\n",
        "x_1^2 + x_2^2 + x_3^2 = 5\n",
        "$$\n",
        "$$\n",
        "x_1 + x_2 = 1\n",
        "$$\n",
        "$$\n",
        "x_1 + x_3 = 1\n",
        "$$"
      ],
      "metadata": {
        "id": "WKSdNFHFF6bA"
      }
    },
    {
      "cell_type": "markdown",
      "source": [
        "Si consideramos $F : \\mathbb{R}^3 → \\mathbb{R}^3$, de modo que $F(x_1,x_2,x_3) = (x_1^2 + x_2^2 + x_3^2-5, x_1 + x_2-1, x_1 + x_3 -1)$, entonces podemos ver que:\n",
        "$$\n",
        "F(x_1, x_2, x_3) = G(x_1, x_2, x_3) - (x_1, x_2, x_3)\n",
        "$$ donde\n",
        "$$\n",
        "G(x_1, x_2, x_3) = (\\sqrt{5-x_2^2-x_3^2}, 1-x_1, 1-x_2)\n",
        "$$\n",
        "\n",
        "Y entonces tendríamos que iniciar el método del punto fijo para $G$ y ver si encontramos alguno:"
      ],
      "metadata": {
        "id": "m6AFT1g7Qc4S"
      }
    },
    {
      "cell_type": "code",
      "source": [
        "def G (x1, x2, x3):\n",
        "  return np.array([(5-x2**2 - x3**2)**(1/2), 1-x1, 1-x3])"
      ],
      "metadata": {
        "id": "Pd3tHuXgSKSX"
      },
      "execution_count": 79,
      "outputs": []
    },
    {
      "cell_type": "code",
      "source": [
        "def FixPoint(G,x0,Tol=0.01,N=100):\n",
        "  #N es el numero de iteraciones\n",
        "  # Tol es la tolerancia\n",
        "  # g es la función a la cual se le quiere obtener el punto fijo\n",
        "  # x0 es el vector de la condicion inicial\n",
        "\n",
        "    n=1\n",
        "    while n<=N:\n",
        "        x1=G(x0[0],x0[1],x0[2])\n",
        "        if np.linalg.norm(x0-x1)<=Tol:\n",
        "            print(f\"EL punto fijo es\")\n",
        "            return x1\n",
        "        x0=x1\n",
        "        n+=1\n",
        "    else:\n",
        "        print(f\"Una aproximación del punto fijo es {x1}\")\n",
        "        return x1\n",
        ""
      ],
      "metadata": {
        "id": "siP3-sBoSkkk"
      },
      "execution_count": 80,
      "outputs": []
    },
    {
      "cell_type": "code",
      "source": [
        "FixPoint(G,np.array([0.5,0.5,0.5]))"
      ],
      "metadata": {
        "colab": {
          "base_uri": "https://localhost:8080/"
        },
        "id": "dLnaePNHTfG2",
        "outputId": "02c720cf-6eaa-4de2-b18c-a86c28534f4b"
      },
      "execution_count": 81,
      "outputs": [
        {
          "output_type": "stream",
          "name": "stdout",
          "text": [
            "EL punto fijo es\n"
          ]
        },
        {
          "output_type": "execute_result",
          "data": {
            "text/plain": [
              "array([ 1.9601269 , -0.95283919,  0.5       ])"
            ]
          },
          "metadata": {},
          "execution_count": 81
        }
      ]
    },
    {
      "cell_type": "code",
      "source": [
        "G(1.9601269 , -0.95283919,  0.5 )"
      ],
      "metadata": {
        "colab": {
          "base_uri": "https://localhost:8080/"
        },
        "id": "ZiDuyQYgU-q3",
        "outputId": "7331ea95-7249-4274-96f3-d77523cc1efa"
      },
      "execution_count": 75,
      "outputs": [
        {
          "output_type": "execute_result",
          "data": {
            "text/plain": [
              "array([ 1.9601269, -0.9601269,  0.5      ])"
            ]
          },
          "metadata": {},
          "execution_count": 75
        }
      ]
    },
    {
      "cell_type": "markdown",
      "source": [
        "Recordando las funciones originales:"
      ],
      "metadata": {
        "id": "0anamvxATs8P"
      }
    },
    {
      "cell_type": "code",
      "source": [
        "# funcion f1\n",
        "def f1(x1, x2, x3):\n",
        "    return x1**2 + x2**2 + x3**2 -5\n",
        "\n",
        "# funcion f2\n",
        "def f2(x1, x2, x3):\n",
        "    return x1 + x2 - 1\n",
        "\n",
        "# funcion f3\n",
        "def f3(x1, x2, x3):\n",
        "    return x1 + x3 - 1\n"
      ],
      "metadata": {
        "id": "KgJTIAYnTrvm"
      },
      "execution_count": 82,
      "outputs": []
    },
    {
      "cell_type": "code",
      "source": [
        "f1(1.9601269 , -0.95283919,  0.5 )"
      ],
      "metadata": {
        "colab": {
          "base_uri": "https://localhost:8080/"
        },
        "id": "Wns9896EVm6v",
        "outputId": "9a2b4242-8702-439a-ba09-bcb41f4dba7f"
      },
      "execution_count": 83,
      "outputs": [
        {
          "output_type": "execute_result",
          "data": {
            "text/plain": [
              "-1.3896534589719067e-08"
            ]
          },
          "metadata": {},
          "execution_count": 83
        }
      ]
    },
    {
      "cell_type": "code",
      "source": [
        "f2(1.9601269 , -0.95283919,  0.5 )"
      ],
      "metadata": {
        "colab": {
          "base_uri": "https://localhost:8080/"
        },
        "id": "qHC5vkpaVt-p",
        "outputId": "006c5bb7-ec5d-4153-a391-34b232138a84"
      },
      "execution_count": 84,
      "outputs": [
        {
          "output_type": "execute_result",
          "data": {
            "text/plain": [
              "0.007287709999999947"
            ]
          },
          "metadata": {},
          "execution_count": 84
        }
      ]
    },
    {
      "cell_type": "code",
      "source": [
        "f3(1.9601269 , -0.95283919,  0.5 )"
      ],
      "metadata": {
        "colab": {
          "base_uri": "https://localhost:8080/"
        },
        "id": "O7tb6g_HVvce",
        "outputId": "3c79e1d4-6b38-4c7f-f423-f13fd563d8dd"
      },
      "execution_count": 85,
      "outputs": [
        {
          "output_type": "execute_result",
          "data": {
            "text/plain": [
              "1.4601268999999997"
            ]
          },
          "metadata": {},
          "execution_count": 85
        }
      ]
    },
    {
      "cell_type": "markdown",
      "source": [
        "Vemos que finalmente solo tenemos una aproximación pues, en realidad, no se anula la ecuación 3, esto puede deberse a que se está considerando sólo una raíz de la ecuación 1."
      ],
      "metadata": {
        "id": "11DHm-oXV6Nd"
      }
    }
  ]
}