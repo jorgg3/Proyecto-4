{
  "nbformat": 4,
  "nbformat_minor": 0,
  "metadata": {
    "colab": {
      "provenance": [],
      "authorship_tag": "ABX9TyN09DpNC4eNKoWvPVmt5MEM",
      "include_colab_link": true
    },
    "kernelspec": {
      "name": "python3",
      "display_name": "Python 3"
    },
    "language_info": {
      "name": "python"
    }
  },
  "cells": [
    {
      "cell_type": "markdown",
      "metadata": {
        "id": "view-in-github",
        "colab_type": "text"
      },
      "source": [
        "<a href=\"https://colab.research.google.com/github/jorgg3/Proyecto-4/blob/main/Ejercicio_11.ipynb\" target=\"_parent\"><img src=\"https://colab.research.google.com/assets/colab-badge.svg\" alt=\"Open In Colab\"/></a>"
      ]
    },
    {
      "cell_type": "markdown",
      "source": [
        "# Práctica 4: Solución a Sistemas de Ecuaciones No Lineales.\n",
        "# Ceros de funciones\n",
        "**Problemas Computacionales**\\\n",
        "Alumno: Martínez de la Cruz José Jorge\\\n",
        "Profesor: César Carreón Otañez\\\n",
        "Ayudante:  Jesús Iván Coss Calderón"
      ],
      "metadata": {
        "id": "oI039CDQG5M5"
      }
    },
    {
      "cell_type": "code",
      "source": [
        "import numpy as np"
      ],
      "metadata": {
        "id": "bf0apSIEHNfJ"
      },
      "execution_count": 5,
      "outputs": []
    },
    {
      "cell_type": "markdown",
      "source": [
        "11. El siguiente polinomio\n",
        "$$\n",
        "P(x) = 230x^4 + 18x^3 + 9x^2 − 221x − 9\n",
        "$$\n",
        "tiene dos ceros, uno en $[−1, 0]$ y otro en $[0, 1]$, hallarlos con una tolerancia de $10^{−6}$ para"
      ],
      "metadata": {
        "id": "RWUHWZeMG6k_"
      }
    },
    {
      "cell_type": "markdown",
      "source": [
        "a) Método de Secante."
      ],
      "metadata": {
        "id": "W7NmnfHRu0f6"
      }
    },
    {
      "cell_type": "code",
      "execution_count": 30,
      "metadata": {
        "id": "5NX7t4EYG1pG"
      },
      "outputs": [],
      "source": [
        "def Secante(f, Tol, N, x0, x1):\n",
        "    \"\"\"\n",
        "    Encuentra una raíz de la función `f` utilizando el método de la secante.\n",
        "\n",
        "    Parámetros:\n",
        "    f (function): La función a la cual se le quiere encontrar la raíz.\n",
        "    Tol (float): La tolerancia para considerar una solución como suficientemente precisa.\n",
        "    N (int): El número máximo de iteraciones para realizar.\n",
        "    x0 (float): El primer punto inicial de la secante.\n",
        "    x1 (float): El segundo punto inicial de la secante.\n",
        "\n",
        "    Retorna:\n",
        "    float: La raíz aproximada de la función.\n",
        "\n",
        "    Excepciones:\n",
        "    Imprime un mensaje si el método no converge en el número máximo de iteraciones.\n",
        "    \"\"\"\n",
        "    # Contador de iteraciones\n",
        "    n = 1\n",
        "\n",
        "    # Bucle que se ejecuta hasta alcanzar el número máximo de iteraciones\n",
        "    while (N >= n):\n",
        "        # Cálculo de los valores de la función en los puntos x0 y x1\n",
        "        fx0, fx1 = f(x0), f(x1)\n",
        "\n",
        "        # Cálculo de la siguiente aproximación utilizando la fórmula de la secante\n",
        "        xn = x1 - fx1 * ((x1 - x0) / float(fx1 - fx0))\n",
        "\n",
        "        # Verificación de los criterios de parada: si el valor de la función es menor que la tolerancia\n",
        "        # y si la diferencia entre los puntos consecutivos es menor que la tolerancia\n",
        "        if (abs(f(xn)) <= Tol and abs(x0 - x1) <= Tol):\n",
        "            print(\"El valor de tu raíz es \" + str(xn))\n",
        "            return xn\n",
        "\n",
        "        # Actualización de los puntos para la siguiente iteración\n",
        "        x0 = x1\n",
        "        x1 = xn\n",
        "\n",
        "        # Incremento en el contador de iteraciones\n",
        "        n += 1\n",
        "\n",
        "    # Si se sale del bucle sin haber encontrado la raíz con los criterios de tolerancia, se imprime un mensaje\n",
        "    else:\n",
        "        print(\"El valor aproximado de tu raíz es \" + str(x1))\n"
      ]
    },
    {
      "cell_type": "code",
      "source": [
        "# Definimos el polinomio\n",
        "f=lambda x: 230*x**4 + 18*x**3 + 9*x**2-221*x-9\n",
        "#Empleamos el método:\n",
        "x = Secante(f,1E-6,100,-1.,0.)\n",
        "f(x)"
      ],
      "metadata": {
        "colab": {
          "base_uri": "https://localhost:8080/"
        },
        "id": "cLCEL9W4inuY",
        "outputId": "593aaf36-ae53-4414-d455-51896c9bf528"
      },
      "execution_count": 38,
      "outputs": [
        {
          "output_type": "stream",
          "name": "stdout",
          "text": [
            "El valor de tu raíz es -0.040659288315758865\n"
          ]
        },
        {
          "output_type": "execute_result",
          "data": {
            "text/plain": [
              "1.7763568394002505e-15"
            ]
          },
          "metadata": {},
          "execution_count": 38
        }
      ]
    },
    {
      "cell_type": "code",
      "source": [
        "# Definimos el polinomio\n",
        "f=lambda x: 230*x**4 + 18*x**3 + 9*x**2-221*x-9\n",
        "#Empleamos el método:\n",
        "x = Secante(f,1E-6,100,0.2,1.)\n",
        "f(x)"
      ],
      "metadata": {
        "colab": {
          "base_uri": "https://localhost:8080/"
        },
        "id": "ZqRLxX0Eqqgv",
        "outputId": "684fd31f-60bd-4941-d8b8-98888d196670"
      },
      "execution_count": 40,
      "outputs": [
        {
          "output_type": "stream",
          "name": "stdout",
          "text": [
            "El valor de tu raíz es 0.9623984187505414\n"
          ]
        },
        {
          "output_type": "execute_result",
          "data": {
            "text/plain": [
              "0.0"
            ]
          },
          "metadata": {},
          "execution_count": 40
        }
      ]
    },
    {
      "cell_type": "markdown",
      "source": [
        "b) Método de Newton."
      ],
      "metadata": {
        "id": "AW-x-1CSvl5F"
      }
    },
    {
      "cell_type": "code",
      "source": [
        "def Newton(f, df, Tol, N, x0):\n",
        "    \"\"\"\n",
        "    Encuentra una raíz de la función `f` utilizando el método de Newton-Raphson.\n",
        "\n",
        "    Parámetros:\n",
        "    f (function): La función a la cual se le quiere encontrar la raíz.\n",
        "    df (function): La derivada de la función `f`.\n",
        "    Tol (float): La tolerancia para considerar una solución como suficientemente precisa.\n",
        "    N (int): El número máximo de iteraciones para realizar.\n",
        "    x0 (float): El punto de inicio o condición inicial para el método.\n",
        "\n",
        "    Retorna:\n",
        "    float: La raíz aproximada de la función.\n",
        "\n",
        "    Excepciones:\n",
        "    Imprime un mensaje si el método no converge en el número máximo de iteraciones.\n",
        "    \"\"\"\n",
        "    # Inicializa el contador de iteraciones\n",
        "    Iter = 0\n",
        "\n",
        "    # Bucle de iteración hasta alcanzar el número máximo de iteraciones\n",
        "    while Iter <= N:\n",
        "        # Calcula el valor de la función y su derivada en el punto actual x0\n",
        "        fx = f(x0)\n",
        "        dfx = df(x0)\n",
        "\n",
        "        # Calcula el siguiente punto utilizando la fórmula de Newton-Raphson\n",
        "        xn = x0 - (fx / float(dfx))\n",
        "\n",
        "        # Verifica si se cumple el criterio de parada: la función y el cambio en x son menores que la tolerancia\n",
        "        if abs(f(xn)) <= Tol and abs(xn - x0) <= Tol:\n",
        "            print(\"Tu raíz es \" + str(xn))\n",
        "            return xn\n",
        "\n",
        "        # Actualiza x0 para la siguiente iteración\n",
        "        x0 = xn\n",
        "\n",
        "        # Incrementa el contador de iteraciones\n",
        "        Iter += 1\n",
        "\n",
        "    # Si se alcanzó el número máximo de iteraciones, imprime un mensaje con la raíz aproximada\n",
        "    else:\n",
        "        print(\"El valor aproximado de tu raíz es \" + str(xn))\n"
      ],
      "metadata": {
        "id": "d9ckawcdvq6o"
      },
      "execution_count": 41,
      "outputs": []
    },
    {
      "cell_type": "code",
      "source": [
        "# Definimos el polinomio y su derivada\n",
        "f=lambda x: 230*x**4 + 18*x**3 + 9*x**2-221*x-9\n",
        "df=lambda x: 920*x**3 + 54*x**2 + 18*x - 221\n",
        "#Empleamos el método:\n",
        "x = Newton(f,df, 1E-6,100,-0.5)\n",
        "f(x)"
      ],
      "metadata": {
        "colab": {
          "base_uri": "https://localhost:8080/"
        },
        "id": "aPUDtxMHvw4z",
        "outputId": "62bd4289-59b3-47fa-d69d-cd3f5351a00d"
      },
      "execution_count": 42,
      "outputs": [
        {
          "output_type": "stream",
          "name": "stdout",
          "text": [
            "Tu raíz es -0.04065928831575899\n"
          ]
        },
        {
          "output_type": "execute_result",
          "data": {
            "text/plain": [
              "2.842170943040401e-14"
            ]
          },
          "metadata": {},
          "execution_count": 42
        }
      ]
    },
    {
      "cell_type": "code",
      "source": [
        "# Definimos el polinomio y su derivada\n",
        "f=lambda x: 230*x**4 + 18*x**3 + 9*x**2-221*x-9\n",
        "df=lambda x: 920*x**3 + 54*x**2 + 18*x - 221\n",
        "#Empleamos el método:\n",
        "x = Newton(f,df, 1E-6,100,1.5)\n",
        "f(x)"
      ],
      "metadata": {
        "colab": {
          "base_uri": "https://localhost:8080/"
        },
        "id": "0PgPZ1u-wI3g",
        "outputId": "cf50d785-8a15-421d-bea7-b94c57c2278e"
      },
      "execution_count": 43,
      "outputs": [
        {
          "output_type": "stream",
          "name": "stdout",
          "text": [
            "Tu raíz es 0.9623984187505443\n"
          ]
        },
        {
          "output_type": "execute_result",
          "data": {
            "text/plain": [
              "1.9042545318370685e-12"
            ]
          },
          "metadata": {},
          "execution_count": 43
        }
      ]
    },
    {
      "cell_type": "markdown",
      "source": [
        "En ambos casos, los métodos convergen a las mismas raíces."
      ],
      "metadata": {
        "id": "z0UCYRgwwL7I"
      }
    }
  ]
}