{
  "nbformat": 4,
  "nbformat_minor": 0,
  "metadata": {
    "colab": {
      "provenance": [],
      "authorship_tag": "ABX9TyMbXEuqHJr/XnAGEk37KSGf",
      "include_colab_link": true
    },
    "kernelspec": {
      "name": "python3",
      "display_name": "Python 3"
    },
    "language_info": {
      "name": "python"
    }
  },
  "cells": [
    {
      "cell_type": "markdown",
      "metadata": {
        "id": "view-in-github",
        "colab_type": "text"
      },
      "source": [
        "<a href=\"https://colab.research.google.com/github/jorgg3/Proyecto-4/blob/main/Ejercicio_9.ipynb\" target=\"_parent\"><img src=\"https://colab.research.google.com/assets/colab-badge.svg\" alt=\"Open In Colab\"/></a>"
      ]
    },
    {
      "cell_type": "markdown",
      "source": [
        "# Práctica 4: Solución a Sistemas de Ecuaciones No Lineales.\n",
        "# Ceros de funciones\n",
        "**Problemas Computacionales**\\\n",
        "Alumno: Martínez de la Cruz José Jorge\\\n",
        "Profesor: César Carreón Otañez\\\n",
        "Ayudante:  Jesús Iván Coss Calderón"
      ],
      "metadata": {
        "id": "oI039CDQG5M5"
      }
    },
    {
      "cell_type": "code",
      "source": [
        "import numpy as np"
      ],
      "metadata": {
        "id": "bf0apSIEHNfJ"
      },
      "execution_count": 5,
      "outputs": []
    },
    {
      "cell_type": "markdown",
      "source": [
        "9. Usar Newton para hallar la solución de las siguientes funciones con una tolerancia de $10^{−5}$"
      ],
      "metadata": {
        "id": "RWUHWZeMG6k_"
      }
    },
    {
      "cell_type": "code",
      "execution_count": 18,
      "metadata": {
        "id": "5NX7t4EYG1pG"
      },
      "outputs": [],
      "source": [
        "def Newton(f, df, Tol, N, x0):\n",
        "    \"\"\"\n",
        "    Encuentra una raíz de la función `f` utilizando el método de Newton-Raphson.\n",
        "\n",
        "    Parámetros:\n",
        "    f (function): La función a la cual se le quiere encontrar la raíz.\n",
        "    df (function): La derivada de la función `f`.\n",
        "    Tol (float): La tolerancia para considerar una solución como suficientemente precisa.\n",
        "    N (int): El número máximo de iteraciones para realizar.\n",
        "    x0 (float): El punto de inicio o condición inicial para el método.\n",
        "\n",
        "    Retorna:\n",
        "    float: La raíz aproximada de la función.\n",
        "\n",
        "    Excepciones:\n",
        "    Imprime un mensaje si el método no converge en el número máximo de iteraciones.\n",
        "    \"\"\"\n",
        "    # Inicializa el contador de iteraciones\n",
        "    Iter = 0\n",
        "\n",
        "    # Bucle de iteración hasta alcanzar el número máximo de iteraciones\n",
        "    while Iter <= N:\n",
        "        # Calcula el valor de la función y su derivada en el punto actual x0\n",
        "        fx = f(x0)\n",
        "        dfx = df(x0)\n",
        "\n",
        "        # Calcula el siguiente punto utilizando la fórmula de Newton-Raphson\n",
        "        xn = x0 - (fx / float(dfx))\n",
        "\n",
        "        # Verifica si se cumple el criterio de parada: la función y el cambio en x son menores que la tolerancia\n",
        "        if abs(f(xn)) <= Tol and abs(xn - x0) <= Tol:\n",
        "            print(\"Tu raíz es \" + str(xn))\n",
        "            return xn\n",
        "\n",
        "        # Actualiza x0 para la siguiente iteración\n",
        "        x0 = xn\n",
        "\n",
        "        # Incrementa el contador de iteraciones\n",
        "        Iter += 1\n",
        "\n",
        "    # Si se alcanzó el número máximo de iteraciones, imprime un mensaje con la raíz aproximada\n",
        "    else:\n",
        "        print(\"El valor aproximado de tu raíz es \" + str(xn))"
      ]
    },
    {
      "cell_type": "markdown",
      "source": [
        "a) $f(x) = e^x + 2^{−x} + 2 \\cos(x) − 6 = 0$ para $1 ≤ x ≤ 2$"
      ],
      "metadata": {
        "id": "dSjuTpU_hL02"
      }
    },
    {
      "cell_type": "code",
      "source": [
        "# Definimos la función y su derivada\n",
        "f=lambda x: np.exp(x)+2**(-x)+2*np.cos(x)-6\n",
        "df= lambda x: np.exp(x)-2**(-x)*np.log(2)-2*np.sin(x)\n",
        "#Empleamos el método:\n",
        "x = Newton(f,df,1E-5,100,1.5)\n",
        "f(x)"
      ],
      "metadata": {
        "colab": {
          "base_uri": "https://localhost:8080/"
        },
        "id": "cLCEL9W4inuY",
        "outputId": "2a80cd39-052e-4c23-f559-891205766132"
      },
      "execution_count": 20,
      "outputs": [
        {
          "output_type": "stream",
          "name": "stdout",
          "text": [
            "Tu raíz es 1.829383601933849\n"
          ]
        },
        {
          "output_type": "execute_result",
          "data": {
            "text/plain": [
              "8.881784197001252e-16"
            ]
          },
          "metadata": {},
          "execution_count": 20
        }
      ]
    },
    {
      "cell_type": "markdown",
      "source": [
        "b) $f(x) = 2x \\cos(2x) − (x − 2)^2 = 0$ para $2 ≤ x ≤ 3$ y $3 ≤ x ≤ 4.$"
      ],
      "metadata": {
        "id": "Oa291aCkqgC4"
      }
    },
    {
      "cell_type": "code",
      "source": [
        "# Definimos la función y su derivada\n",
        "f=lambda x: 2*x*np.cos(2*x)-(x-2)**2\n",
        "df= lambda x: 2*np.cos(2*x)-4*np.sin(2*x)*x-2*x+4\n",
        "#Empleamos el método:\n",
        "x = Newton(f,df,1E-5,100,2.5)\n",
        "f(x)"
      ],
      "metadata": {
        "colab": {
          "base_uri": "https://localhost:8080/"
        },
        "id": "ZqRLxX0Eqqgv",
        "outputId": "01704c47-8029-4377-86c4-b6ad031a55f6"
      },
      "execution_count": 21,
      "outputs": [
        {
          "output_type": "stream",
          "name": "stdout",
          "text": [
            "Tu raíz es 2.370686917662517\n"
          ]
        },
        {
          "output_type": "execute_result",
          "data": {
            "text/plain": [
              "2.2476187577780138e-12"
            ]
          },
          "metadata": {},
          "execution_count": 21
        }
      ]
    },
    {
      "cell_type": "code",
      "source": [
        "# Definimos la función y su derivada\n",
        "f=lambda x: 2*x*np.cos(2*x)-(x-2)**2\n",
        "df= lambda x: 2*np.cos(2*x)-4*np.sin(2*x)*x-2*x+4\n",
        "#Empleamos el método:\n",
        "x = Newton(f,df,1E-5,100,3.5)\n",
        "f(x)"
      ],
      "metadata": {
        "colab": {
          "base_uri": "https://localhost:8080/"
        },
        "id": "_ilQnDqgrLTZ",
        "outputId": "ef368196-bc00-4470-85ff-8eb2e078c752"
      },
      "execution_count": 22,
      "outputs": [
        {
          "output_type": "stream",
          "name": "stdout",
          "text": [
            "Tu raíz es 3.722112773106613\n"
          ]
        },
        {
          "output_type": "execute_result",
          "data": {
            "text/plain": [
              "-7.866773898967949e-11"
            ]
          },
          "metadata": {},
          "execution_count": 22
        }
      ]
    },
    {
      "cell_type": "markdown",
      "source": [
        "c) $f(x) = e^x − 3x^2 = 0$ para $0 ≤ x ≤ 1$ y $3 ≤ x ≤ 5$."
      ],
      "metadata": {
        "id": "aUaRqrCPsADC"
      }
    },
    {
      "cell_type": "code",
      "source": [
        "# Definimos la función y su derivada\n",
        "f=lambda x: np.exp(x)-3*x**2\n",
        "df= lambda x: np.exp(x)-6*x\n",
        "#Empleamos el método:\n",
        "x = Newton(f,df,1E-5,100,0.5)\n",
        "f(x)"
      ],
      "metadata": {
        "colab": {
          "base_uri": "https://localhost:8080/"
        },
        "id": "xLJUbIa1sdb1",
        "outputId": "7aeeeb86-c19b-41f5-c5ef-70b3167a4437"
      },
      "execution_count": 23,
      "outputs": [
        {
          "output_type": "stream",
          "name": "stdout",
          "text": [
            "Tu raíz es 0.9100075724887138\n"
          ]
        },
        {
          "output_type": "execute_result",
          "data": {
            "text/plain": [
              "-1.3766765505351941e-14"
            ]
          },
          "metadata": {},
          "execution_count": 23
        }
      ]
    },
    {
      "cell_type": "code",
      "source": [
        "# Definimos la función y su derivada\n",
        "f=lambda x: np.exp(x)-3*x**2\n",
        "df= lambda x: np.exp(x)-6*x\n",
        "#Empleamos el método:\n",
        "x = Newton(f,df,1E-5,100,4)\n",
        "f(x)"
      ],
      "metadata": {
        "colab": {
          "base_uri": "https://localhost:8080/"
        },
        "id": "hEB_0GO2sn5T",
        "outputId": "4c3b68db-6ea2-48a3-f58f-de1135a9abdb"
      },
      "execution_count": 24,
      "outputs": [
        {
          "output_type": "stream",
          "name": "stdout",
          "text": [
            "Tu raíz es 3.733079028654685\n"
          ]
        },
        {
          "output_type": "execute_result",
          "data": {
            "text/plain": [
              "4.2448533577044145e-10"
            ]
          },
          "metadata": {},
          "execution_count": 24
        }
      ]
    }
  ]
}