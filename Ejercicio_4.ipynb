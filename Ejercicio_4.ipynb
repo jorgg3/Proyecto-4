{
  "nbformat": 4,
  "nbformat_minor": 0,
  "metadata": {
    "colab": {
      "provenance": [],
      "authorship_tag": "ABX9TyPHaK/v2AbMvKI9s5cOYbiq",
      "include_colab_link": true
    },
    "kernelspec": {
      "name": "python3",
      "display_name": "Python 3"
    },
    "language_info": {
      "name": "python"
    }
  },
  "cells": [
    {
      "cell_type": "markdown",
      "metadata": {
        "id": "view-in-github",
        "colab_type": "text"
      },
      "source": [
        "<a href=\"https://colab.research.google.com/github/jorgg3/Proyecto-4/blob/main/Ejercicio_4.ipynb\" target=\"_parent\"><img src=\"https://colab.research.google.com/assets/colab-badge.svg\" alt=\"Open In Colab\"/></a>"
      ]
    },
    {
      "cell_type": "markdown",
      "source": [
        "# Práctica 4: Solución a Sistemas de Ecuaciones No Lineales.\n",
        "# Ceros de funciones\n",
        "**Problemas Computacionales**\\\n",
        "Alumno: Martínez de la Cruz José Jorge\\\n",
        "Profesor: César Carreón Otañez\\\n",
        "Ayudante:  Jesús Iván Coss Calderón"
      ],
      "metadata": {
        "id": "oI039CDQG5M5"
      }
    },
    {
      "cell_type": "code",
      "source": [
        "import numpy as np"
      ],
      "metadata": {
        "id": "bf0apSIEHNfJ"
      },
      "execution_count": null,
      "outputs": []
    },
    {
      "cell_type": "markdown",
      "source": [
        "4. Hallar una aproximación a $\\sqrt{3}$ con una tolerancia de $10^{−4}$ usando el algoritmo de Bisección. [Hint: considerar $f(x) = x^2 − 3.$]"
      ],
      "metadata": {
        "id": "RWUHWZeMG6k_"
      }
    },
    {
      "cell_type": "code",
      "execution_count": 1,
      "metadata": {
        "id": "5NX7t4EYG1pG"
      },
      "outputs": [],
      "source": [
        "def Biseccion(Tol, N, f, a, b):\n",
        "    \"\"\"\n",
        "    Encuentra una raíz de la función `f` en el intervalo [a, b] utilizando el método de bisección.\n",
        "\n",
        "    Parámetros:\n",
        "    Tol (float): La tolerancia para considerar una solución como suficientemente precisa.\n",
        "    N (int): El número máximo de iteraciones para realizar.\n",
        "    f (function): La función a la cual se le quiere encontrar la raíz.\n",
        "    a (float): El extremo izquierdo del intervalo.\n",
        "    b (float): El extremo derecho del intervalo.\n",
        "\n",
        "    Retorna:\n",
        "    float: La raíz aproximada de la función en el intervalo [a, b].\n",
        "\n",
        "    Excepciones:\n",
        "    Imprime un mensaje si la función no tiene raíces en el intervalo.\n",
        "    \"\"\"\n",
        "    # Calcula los valores de la función en los extremos del intervalo\n",
        "    fa, fb = f(a), f(b)\n",
        "\n",
        "    # Verifica si hay un cambio de signo en los extremos para garantizar que existe una raíz en el intervalo\n",
        "    if fa * fb > 0.0:\n",
        "        print(\"No tiene raíces en el intervalo\")\n",
        "        return None\n",
        "\n",
        "    # Inicializa el punto medio y un contador de iteraciones\n",
        "    x0 = 0.0\n",
        "    Iter = 0\n",
        "\n",
        "    # Loop de iteraciones, se detiene si se llega al número máximo de iteraciones o si se cumple la tolerancia\n",
        "    while Iter <= N:\n",
        "        # Calcula el punto medio del intervalo\n",
        "        x1 = (a + b) / 2.0\n",
        "        fx1 = f(x1)\n",
        "\n",
        "        # Verifica si el valor de la función en el punto medio es suficientemente cercano a cero\n",
        "        # o si el cambio entre el punto medio y el anterior es menor que la tolerancia\n",
        "        if abs(fx1) <= Tol and abs(x1 - x0) <= Tol:\n",
        "            print(\"Tu raíz es \" + str(x1))\n",
        "            return x1\n",
        "\n",
        "        # Actualiza los extremos del intervalo según el signo de la función en el punto medio\n",
        "        if fa * fx1 < 0:\n",
        "            b = x1\n",
        "        elif fx1 * fb < 0:\n",
        "            a = x1\n",
        "\n",
        "        # Actualiza el valor anterior de x para la siguiente iteración\n",
        "        x0 = x1\n",
        "        Iter += 1\n",
        "\n",
        "    # Si se sale del bucle sin haber encontrado la raíz exacta, imprime un mensaje con la raíz aproximada\n",
        "    else:\n",
        "        print(\"El valor aproximado de tu raíz es \" + str(x1))\n",
        "        return x1\n"
      ]
    },
    {
      "cell_type": "markdown",
      "source": [
        "a) $f(x) = x^2− 3 $, para $1 ≤ x ≤ 2$."
      ],
      "metadata": {
        "id": "BQ5IxgycHmzm"
      }
    },
    {
      "cell_type": "code",
      "source": [
        "# Definición de la función lambda que se quiere resolver\n",
        "f = lambda x: x**2 - 3\n",
        "\n",
        "# Llamada a la función Biseccion para encontrar una raíz de f en el intervalo [0, 1]\n",
        "r = Biseccion(1E-4, 100, f, 1., 2.)\n",
        "\n",
        "# Evaluación de la función f en el punto r encontrado\n",
        "f(r)\n"
      ],
      "metadata": {
        "colab": {
          "base_uri": "https://localhost:8080/"
        },
        "id": "iem6tznTHzvv",
        "outputId": "b8dd31de-8ce4-4566-efb7-f4e10e0aba19"
      },
      "execution_count": 2,
      "outputs": [
        {
          "output_type": "stream",
          "name": "stdout",
          "text": [
            "Tu raíz es 1.732025146484375\n"
          ]
        },
        {
          "output_type": "execute_result",
          "data": {
            "text/plain": [
              "-8.889194577932358e-05"
            ]
          },
          "metadata": {},
          "execution_count": 2
        }
      ]
    },
    {
      "cell_type": "markdown",
      "source": [
        "La raíz resultante es aproximadamente $\\sqrt 3 = 1. 73202514...$"
      ],
      "metadata": {
        "id": "rAY3avVqY7_J"
      }
    }
  ]
}