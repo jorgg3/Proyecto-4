{
  "nbformat": 4,
  "nbformat_minor": 0,
  "metadata": {
    "colab": {
      "provenance": [],
      "authorship_tag": "ABX9TyP639YjGz1t8Arwm6I7PMyS",
      "include_colab_link": true
    },
    "kernelspec": {
      "name": "python3",
      "display_name": "Python 3"
    },
    "language_info": {
      "name": "python"
    }
  },
  "cells": [
    {
      "cell_type": "markdown",
      "metadata": {
        "id": "view-in-github",
        "colab_type": "text"
      },
      "source": [
        "<a href=\"https://colab.research.google.com/github/jorgg3/Proyecto-4/blob/main/Ejercicio_7.ipynb\" target=\"_parent\"><img src=\"https://colab.research.google.com/assets/colab-badge.svg\" alt=\"Open In Colab\"/></a>"
      ]
    },
    {
      "cell_type": "markdown",
      "source": [
        "# Práctica 4: Solución a Sistemas de Ecuaciones No Lineales.\n",
        "# Ceros de funciones\n",
        "**Problemas Computacionales**\\\n",
        "Alumno: Martínez de la Cruz José Jorge\\\n",
        "Profesor: César Carreón Otañez\\\n",
        "Ayudante:  Jesús Iván Coss Calderón"
      ],
      "metadata": {
        "id": "oI039CDQG5M5"
      }
    },
    {
      "cell_type": "code",
      "source": [
        "import numpy as np"
      ],
      "metadata": {
        "id": "bf0apSIEHNfJ"
      },
      "execution_count": 5,
      "outputs": []
    },
    {
      "cell_type": "markdown",
      "source": [
        "7. Usar la iteración de Punto Fijo para mostrar que la función $g(x) = π + 0.5 \\sin(\\frac{x}{2}$) tiene un punto fijo en el intervalo $[0, 2π]$ con una tolerancia de $10^{−2}$.(Programar el ejemplo en específico con una gráfica de la función)."
      ],
      "metadata": {
        "id": "RWUHWZeMG6k_"
      }
    },
    {
      "cell_type": "code",
      "execution_count": 6,
      "metadata": {
        "id": "5NX7t4EYG1pG"
      },
      "outputs": [],
      "source": [
        "def FixPoint(g, x0, Tol=0.01, N=100):\n",
        "    \"\"\"\n",
        "    Encuentra un punto fijo de la función `g` utilizando el método de punto fijo.\n",
        "\n",
        "    Parámetros:\n",
        "    g (function): La función para la cual se quiere encontrar un punto fijo.\n",
        "    x0 (float): La condición inicial desde la cual se inicia el proceso de iteración.\n",
        "    Tol (float, opcional): La tolerancia para considerar un punto fijo como suficientemente preciso.\n",
        "                          Por defecto, es 0.01.\n",
        "    N (int, opcional): El número máximo de iteraciones para realizar. Por defecto, es 100.\n",
        "\n",
        "    Retorna:\n",
        "    float: Un punto fijo aproximado de la función `g`.\n",
        "\n",
        "    Excepciones:\n",
        "    Imprime un mensaje si se alcanza el número máximo de iteraciones sin encontrar un punto fijo.\n",
        "    \"\"\"\n",
        "    # Inicializa el contador de iteraciones\n",
        "    n = 1\n",
        "\n",
        "    # Bucle de iteración que se ejecuta mientras no se haya superado el número máximo de iteraciones\n",
        "    while n <= N:\n",
        "        # Calcula el siguiente punto de iteración aplicando la función `g` al punto actual `x0`\n",
        "        x1 = g(x0)\n",
        "\n",
        "        # Verifica si la diferencia entre el nuevo punto y el anterior es menor que la tolerancia\n",
        "        if abs(x1 - x0) <= Tol:\n",
        "            print(f\"EL punto fijo es {x1}\")\n",
        "            return x1\n",
        "\n",
        "        # Actualiza el valor de `x0` para la siguiente iteración\n",
        "        x0 = x1\n",
        "\n",
        "        # Incrementa el contador de iteraciones\n",
        "        n += 1\n",
        "    else:\n",
        "        # Si se alcanza el número máximo de iteraciones, imprime un mensaje y devuelve el punto calculado\n",
        "        print(f\"Una aproximación del punto fijo es {x1}\")\n",
        "        return x1\n"
      ]
    },
    {
      "cell_type": "markdown",
      "source": [
        "$g(x) = \\pi + 0.5 \\sin (\\dfrac{π}{2}) $, para $0 ≤ x ≤ 2π$"
      ],
      "metadata": {
        "id": "BQ5IxgycHmzm"
      }
    },
    {
      "cell_type": "code",
      "source": [
        "# Definición de la función lambda que se quiere resolver\n",
        "g = lambda x: np.pi + 0.5*np.sin(x/2)\n",
        "\n",
        "# Llamada a la función Biseccion para encontrar una raíz de f en el intervalo [0, 1]\n",
        "r = FixPoint(g, 0.5, 0.001)\n",
        "# Evaluación de la función f en el punto r encontrado\n",
        "g(r)\n"
      ],
      "metadata": {
        "colab": {
          "base_uri": "https://localhost:8080/"
        },
        "id": "iem6tznTHzvv",
        "outputId": "2cb2a341-14d0-4b9e-d382-abcc1de42e13"
      },
      "execution_count": 7,
      "outputs": [
        {
          "output_type": "stream",
          "name": "stdout",
          "text": [
            "EL punto fijo es 3.626992079448629\n"
          ]
        },
        {
          "output_type": "execute_result",
          "data": {
            "text/plain": [
              "3.6269390070926475"
            ]
          },
          "metadata": {},
          "execution_count": 7
        }
      ]
    },
    {
      "cell_type": "markdown",
      "source": [
        "Tenemos que el punto fijo es en $x = 3.626992079448629$, gráfiquemos:"
      ],
      "metadata": {
        "id": "sWR4kWcucp9Q"
      }
    },
    {
      "cell_type": "code",
      "source": [
        "import matplotlib.pyplot as plt"
      ],
      "metadata": {
        "id": "qb089zOudYry"
      },
      "execution_count": 9,
      "outputs": []
    },
    {
      "cell_type": "code",
      "source": [
        "x = np.linspace(0, 2*np.pi, 100)\n",
        "y = g(x)"
      ],
      "metadata": {
        "id": "h1e--m1NdXA_"
      },
      "execution_count": 13,
      "outputs": []
    },
    {
      "cell_type": "code",
      "source": [
        "plt.plot(x, y, label=r'$g(x) = \\pi + 0.5 \\sin\\left(\\frac{x}{2}\\right)$', color='green')\n",
        "plt.plot(x, x, label='Recta $x = y$', color='yellow', linestyle='-')\n",
        "plt.title('Intersección de $g(x)$ con $x = y$ ')\n",
        "plt.xlabel('x')\n",
        "plt.ylabel('g(x)')\n",
        "plt.legend()\n",
        "plt.show()"
      ],
      "metadata": {
        "colab": {
          "base_uri": "https://localhost:8080/",
          "height": 475
        },
        "id": "LtusI5W1djke",
        "outputId": "21fffe39-023a-4b61-e93d-190d9d4b3961"
      },
      "execution_count": 17,
      "outputs": [
        {
          "output_type": "display_data",
          "data": {
            "text/plain": [
              "<Figure size 640x480 with 1 Axes>"
            ],
            "image/png": "[encoded data removed]"
          },
          "metadata": {}
        }
      ]
    },
    {
      "cell_type": "markdown",
      "source": [
        "Por la teoría vista en clase, sabemos que una función $g(x)$ tienen un punto fijo si la gráfica de la función intersecta a la recta $x=y$ en este caso, podemos ver que en efecto, intersecta en el punto fijo que encontró el algoritmo."
      ],
      "metadata": {
        "id": "Pi8ypgBHePsX"
      }
    }
  ]
}