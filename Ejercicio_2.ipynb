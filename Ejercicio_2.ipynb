{
  "nbformat": 4,
  "nbformat_minor": 0,
  "metadata": {
    "colab": {
      "provenance": [],
      "authorship_tag": "ABX9TyPaWdnidbxxtDlqmdDg21fO",
      "include_colab_link": true
    },
    "kernelspec": {
      "name": "python3",
      "display_name": "Python 3"
    },
    "language_info": {
      "name": "python"
    }
  },
  "cells": [
    {
      "cell_type": "markdown",
      "metadata": {
        "id": "view-in-github",
        "colab_type": "text"
      },
      "source": [
        "<a href=\"https://colab.research.google.com/github/jorgg3/Proyecto-4/blob/main/Ejercicio_2.ipynb\" target=\"_parent\"><img src=\"https://colab.research.google.com/assets/colab-badge.svg\" alt=\"Open In Colab\"/></a>"
      ]
    },
    {
      "cell_type": "markdown",
      "source": [
        "# Práctica 4: Solución a Sistemas de Ecuaciones No Lineales.\n",
        "# Ceros de funciones\n",
        "**Problemas Computacionales**\\\n",
        "Alumno: Martínez de la Cruz José Jorge\\\n",
        "Profesor: César Carreón Otañez\\\n",
        "Ayudante:  Jesús Iván Coss Calderón"
      ],
      "metadata": {
        "id": "oI039CDQG5M5"
      }
    },
    {
      "cell_type": "code",
      "source": [
        "import numpy as np"
      ],
      "metadata": {
        "id": "bf0apSIEHNfJ"
      },
      "execution_count": null,
      "outputs": []
    },
    {
      "cell_type": "markdown",
      "source": [
        "2. Usar el Método de Bisección (programado) para encontrar la solución de las siguientes funciones con una tolerancia de $10^{-5}$\n",
        "."
      ],
      "metadata": {
        "id": "RWUHWZeMG6k_"
      }
    },
    {
      "cell_type": "code",
      "execution_count": null,
      "metadata": {
        "id": "5NX7t4EYG1pG"
      },
      "outputs": [],
      "source": [
        "def Biseccion(Tol, N, f, a, b):\n",
        "    \"\"\"\n",
        "    Encuentra una raíz de la función `f` en el intervalo [a, b] utilizando el método de bisección.\n",
        "\n",
        "    Parámetros:\n",
        "    Tol (float): La tolerancia para considerar una solución como suficientemente precisa.\n",
        "    N (int): El número máximo de iteraciones para realizar.\n",
        "    f (function): La función a la cual se le quiere encontrar la raíz.\n",
        "    a (float): El extremo izquierdo del intervalo.\n",
        "    b (float): El extremo derecho del intervalo.\n",
        "\n",
        "    Retorna:\n",
        "    float: La raíz aproximada de la función en el intervalo [a, b].\n",
        "\n",
        "    Excepciones:\n",
        "    Imprime un mensaje si la función no tiene raíces en el intervalo.\n",
        "    \"\"\"\n",
        "    # Calcula los valores de la función en los extremos del intervalo\n",
        "    fa, fb = f(a), f(b)\n",
        "\n",
        "    # Verifica si hay un cambio de signo en los extremos para garantizar que existe una raíz en el intervalo\n",
        "    if fa * fb > 0.0:\n",
        "        print(\"No tiene raíces en el intervalo\")\n",
        "        return None\n",
        "\n",
        "    # Inicializa el punto medio y un contador de iteraciones\n",
        "    x0 = 0.0\n",
        "    Iter = 0\n",
        "\n",
        "    # Loop de iteraciones, se detiene si se llega al número máximo de iteraciones o si se cumple la tolerancia\n",
        "    while Iter <= N:\n",
        "        # Calcula el punto medio del intervalo\n",
        "        x1 = (a + b) / 2.0\n",
        "        fx1 = f(x1)\n",
        "\n",
        "        # Verifica si el valor de la función en el punto medio es suficientemente cercano a cero\n",
        "        # o si el cambio entre el punto medio y el anterior es menor que la tolerancia\n",
        "        if abs(fx1) <= Tol and abs(x1 - x0) <= Tol:\n",
        "            print(\"Tu raíz es \" + str(x1))\n",
        "            return x1\n",
        "\n",
        "        # Actualiza los extremos del intervalo según el signo de la función en el punto medio\n",
        "        if fa * fx1 < 0:\n",
        "            b = x1\n",
        "        elif fx1 * fb < 0:\n",
        "            a = x1\n",
        "\n",
        "        # Actualiza el valor anterior de x para la siguiente iteración\n",
        "        x0 = x1\n",
        "        Iter += 1\n",
        "\n",
        "    # Si se sale del bucle sin haber encontrado la raíz exacta, imprime un mensaje con la raíz aproximada\n",
        "    else:\n",
        "        print(\"El valor aproximado de tu raíz es \" + str(x1))\n",
        "        return x1\n"
      ]
    },
    {
      "cell_type": "markdown",
      "source": [
        "a) $f(x) = x − 2^{-x} $, para $0 ≤ x ≤ 1$."
      ],
      "metadata": {
        "id": "BQ5IxgycHmzm"
      }
    },
    {
      "cell_type": "code",
      "source": [
        "# Definición de la función lambda que se quiere resolver\n",
        "f = lambda x: x - 2**(-x)\n",
        "\n",
        "# Llamada a la función Biseccion para encontrar una raíz de f en el intervalo [0, 1]\n",
        "r = Biseccion(1E-5, 100, f, 0., 1.)\n",
        "\n",
        "# Evaluación de la función f en el punto r encontrado\n",
        "f(r)\n"
      ],
      "metadata": {
        "colab": {
          "base_uri": "https://localhost:8080/"
        },
        "id": "iem6tznTHzvv",
        "outputId": "9a81c750-d070-4895-9561-711a323753d8"
      },
      "execution_count": null,
      "outputs": [
        {
          "output_type": "stream",
          "name": "stdout",
          "text": [
            "Tu raíz es 0.6411819458007812\n"
          ]
        },
        {
          "output_type": "execute_result",
          "data": {
            "text/plain": [
              "-5.486987675107358e-06"
            ]
          },
          "metadata": {},
          "execution_count": 3
        }
      ]
    },
    {
      "cell_type": "markdown",
      "source": [
        "b) $f(x) = e^x − x^2 + 3x - 2 $, para $0 ≤ x ≤ 1$."
      ],
      "metadata": {
        "id": "mdMQGWhqIsSf"
      }
    },
    {
      "cell_type": "code",
      "source": [
        "# Definición de la función lambda que se quiere resolver\n",
        "f = lambda x: np.exp(x) - x**2 + 3*x - 2\n",
        "\n",
        "# Llamada a la función Biseccion para encontrar una raíz de f en el intervalo [0, 1]\n",
        "r = Biseccion(1E-5, 100, f, 0., 1.)\n",
        "\n",
        "# Evaluación de la función f en el punto r encontrado\n",
        "f(r)"
      ],
      "metadata": {
        "colab": {
          "base_uri": "https://localhost:8080/"
        },
        "id": "9DK8-gMcI6Fo",
        "outputId": "e67a1c71-f4ee-43bc-8c78-c5d58929be42"
      },
      "execution_count": null,
      "outputs": [
        {
          "output_type": "stream",
          "name": "stdout",
          "text": [
            "Tu raíz es 0.25753021240234375\n"
          ]
        },
        {
          "output_type": "execute_result",
          "data": {
            "text/plain": [
              "-2.759847070876731e-07"
            ]
          },
          "metadata": {},
          "execution_count": 8
        }
      ]
    },
    {
      "cell_type": "markdown",
      "source": [
        "c) $f(x) = 2x \\cos(2x) − (x + 1)^2$, para $-3 ≤ x ≤ -2$ y $-1 \\leq x \\leq 0$"
      ],
      "metadata": {
        "id": "wBG-LYmJJg7W"
      }
    },
    {
      "cell_type": "code",
      "source": [
        "# Definición de la función lambda que se quiere resolver\n",
        "f = lambda x: 2*x * np.cos(2*x) - (x + 1)**2\n",
        "\n",
        "# Llamada a la función Biseccion para encontrar una raíz de f en el intervalo [-3, -2]\n",
        "r = Biseccion(1E-5, 100, f, -3., -2)\n",
        "\n",
        "# Evaluación de la función f en el punto r encontrado\n",
        "print(f(r))\n",
        "\n",
        "# Llamada a la función Biseccion para encontrar una raíz de f en el intervalo [-1, 0]\n",
        "r1 = Biseccion(1E-5, 100, f, -1., 0.)\n",
        "\n",
        "# Evaluación de la función f en el punto r encontrado\n",
        "print(f(r1))"
      ],
      "metadata": {
        "colab": {
          "base_uri": "https://localhost:8080/"
        },
        "id": "-f_n9OScJ5ax",
        "outputId": "14e8b73c-0b0a-44da-eca9-915375704c72"
      },
      "execution_count": null,
      "outputs": [
        {
          "output_type": "stream",
          "name": "stdout",
          "text": [
            "Tu raíz es -2.1913070678710938\n",
            "9.465576019884736e-06\n",
            "Tu raíz es -0.7981605529785156\n",
            "2.1570654659686106e-06\n"
          ]
        }
      ]
    },
    {
      "cell_type": "markdown",
      "source": [
        "d)$f(x) = x cos(x) − 2x^2 + 3x − 1$, para $0.2 ≤ x ≤ 0.3$ y $1.2 ≤ x ≤ 1.3$."
      ],
      "metadata": {
        "id": "tqAb6vLHKvDI"
      }
    },
    {
      "cell_type": "code",
      "source": [
        "# Definición de la función lambda que se quiere resolver\n",
        "f = lambda x: x*np.cos(x) - 2*(x**2) + 3*x - 1\n",
        "\n",
        "# Llamada a la función Biseccion para encontrar una raíz de f en el intervalo [0.2, 0.3]\n",
        "r = Biseccion(1E-5, 100, f, 0.2, 0.3)\n",
        "\n",
        "# Evaluación de la función f en el punto r encontrado\n",
        "print(f(r))\n",
        "\n",
        "# Llamada a la función Biseccion para encontrar una raíz de f en el intervalo [1.2, 1.3]\n",
        "r1 = Biseccion(1E-5, 100, f, 1.2, 1.3)\n",
        "\n",
        "# Evaluación de la función f en el punto r encontrado\n",
        "print(f(r1))"
      ],
      "metadata": {
        "colab": {
          "base_uri": "https://localhost:8080/"
        },
        "id": "TlfaCDnBK8yO",
        "outputId": "e8f134c5-0954-46dc-fcd7-c3a3f714ce85"
      },
      "execution_count": null,
      "outputs": [
        {
          "output_type": "stream",
          "name": "stdout",
          "text": [
            "Tu raíz es 0.29752807617187504\n",
            "-5.779346069045843e-06\n",
            "Tu raíz es 1.256622314453125\n",
            "2.936027865718671e-06\n"
          ]
        }
      ]
    }
  ]
}