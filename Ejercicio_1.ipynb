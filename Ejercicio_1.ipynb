{
  "nbformat": 4,
  "nbformat_minor": 0,
  "metadata": {
    "colab": {
      "provenance": []
    },
    "kernelspec": {
      "name": "python3",
      "display_name": "Python 3"
    },
    "language_info": {
      "name": "python"
    }
  },
  "cells": [
    {
      "cell_type": "markdown",
      "source": [
        "# Práctica 4: Solución a Sistemas de Ecuaciones No Lineales.\n",
        "# Ceros de funciones\n",
        "**Problemas Computacionales**\\\n",
        "Alumno: Martínez de la Cruz José Jorge\\\n",
        "Profesor: César Carreón Otañez\\\n",
        "Ayudante:  Jesús Iván Coss Calderón"
      ],
      "metadata": {
        "id": "dzM0M5RXC3_i"
      }
    },
    {
      "cell_type": "code",
      "source": [
        "import numpy as np"
      ],
      "metadata": {
        "id": "Ofq8XDOxEEhW"
      },
      "execution_count": 2,
      "outputs": []
    },
    {
      "cell_type": "markdown",
      "source": [
        "1. Programar los métodos de:"
      ],
      "metadata": {
        "id": "sCZAOa_gDRui"
      }
    },
    {
      "cell_type": "markdown",
      "source": [
        "# a) Bisección"
      ],
      "metadata": {
        "id": "uPchFNuPDYLy"
      }
    },
    {
      "cell_type": "code",
      "execution_count": 3,
      "metadata": {
        "id": "d_zaMHQrCU6H"
      },
      "outputs": [],
      "source": [
        "def Biseccion(Tol, N, f, a, b):\n",
        "    \"\"\"\n",
        "    Encuentra una raíz de la función `f` en el intervalo [a, b] utilizando el método de bisección.\n",
        "\n",
        "    Parámetros:\n",
        "    Tol (float): La tolerancia para considerar una solución como suficientemente precisa.\n",
        "    N (int): El número máximo de iteraciones para realizar.\n",
        "    f (function): La función a la cual se le quiere encontrar la raíz.\n",
        "    a (float): El extremo izquierdo del intervalo.\n",
        "    b (float): El extremo derecho del intervalo.\n",
        "\n",
        "    Retorna:\n",
        "    float: La raíz aproximada de la función en el intervalo [a, b].\n",
        "\n",
        "    Excepciones:\n",
        "    Imprime un mensaje si la función no tiene raíces en el intervalo.\n",
        "    \"\"\"\n",
        "    # Calcula los valores de la función en los extremos del intervalo\n",
        "    fa, fb = f(a), f(b)\n",
        "\n",
        "    # Verifica si hay un cambio de signo en los extremos para garantizar que existe una raíz en el intervalo\n",
        "    if fa * fb > 0.0:\n",
        "        print(\"No tiene raíces en el intervalo\")\n",
        "        return None\n",
        "\n",
        "    # Inicializa el punto medio y un contador de iteraciones\n",
        "    x0 = 0.0\n",
        "    Iter = 0\n",
        "\n",
        "    # Loop de iteraciones, se detiene si se llega al número máximo de iteraciones o si se cumple la tolerancia\n",
        "    while Iter <= N:\n",
        "        # Calcula el punto medio del intervalo\n",
        "        x1 = (a + b) / 2.0\n",
        "        fx1 = f(x1)\n",
        "\n",
        "        # Verifica si el valor de la función en el punto medio es suficientemente cercano a cero\n",
        "        # o si el cambio entre el punto medio y el anterior es menor que la tolerancia\n",
        "        if abs(fx1) <= Tol and abs(x1 - x0) <= Tol:\n",
        "            print(\"Tu raíz es \" + str(x1))\n",
        "            return x1\n",
        "\n",
        "        # Actualiza los extremos del intervalo según el signo de la función en el punto medio\n",
        "        if fa * fx1 < 0:\n",
        "            b = x1\n",
        "        elif fx1 * fb < 0:\n",
        "            a = x1\n",
        "\n",
        "        # Actualiza el valor anterior de x para la siguiente iteración\n",
        "        x0 = x1\n",
        "        Iter += 1\n",
        "\n",
        "    # Si se sale del bucle sin haber encontrado la raíz exacta, imprime un mensaje con la raíz aproximada\n",
        "    else:\n",
        "        print(\"El valor aproximado de tu raíz es \" + str(x1))\n",
        "        return x1\n"
      ]
    },
    {
      "cell_type": "markdown",
      "source": [],
      "metadata": {
        "id": "eV6ICGobX3rS"
      }
    },
    {
      "cell_type": "markdown",
      "source": [
        "# b) Secante"
      ],
      "metadata": {
        "id": "pkCjs5B0EJ_U"
      }
    },
    {
      "cell_type": "code",
      "source": [
        "def Secante(f, Tol, N, x0, x1):\n",
        "    \"\"\"\n",
        "    Encuentra una raíz de la función `f` utilizando el método de la secante.\n",
        "\n",
        "    Parámetros:\n",
        "    f (function): La función a la cual se le quiere encontrar la raíz.\n",
        "    Tol (float): La tolerancia para considerar una solución como suficientemente precisa.\n",
        "    N (int): El número máximo de iteraciones para realizar.\n",
        "    x0 (float): El primer punto inicial de la secante.\n",
        "    x1 (float): El segundo punto inicial de la secante.\n",
        "\n",
        "    Retorna:\n",
        "    float: La raíz aproximada de la función.\n",
        "\n",
        "    Excepciones:\n",
        "    Imprime un mensaje si el método no converge en el número máximo de iteraciones.\n",
        "    \"\"\"\n",
        "    # Contador de iteraciones\n",
        "    n = 1\n",
        "\n",
        "    # Bucle que se ejecuta hasta alcanzar el número máximo de iteraciones\n",
        "    while (N >= n):\n",
        "        # Cálculo de los valores de la función en los puntos x0 y x1\n",
        "        fx0, fx1 = f(x0), f(x1)\n",
        "\n",
        "        # Cálculo de la siguiente aproximación utilizando la fórmula de la secante\n",
        "        xn = x1 - fx1 * ((x1 - x0) / float(fx1 - fx0))\n",
        "\n",
        "        # Verificación de los criterios de parada: si el valor de la función es menor que la tolerancia\n",
        "        # y si la diferencia entre los puntos consecutivos es menor que la tolerancia\n",
        "        if (abs(f(xn)) <= Tol and abs(x0 - x1) <= Tol):\n",
        "            return xn\n",
        "\n",
        "        # Actualización de los puntos para la siguiente iteración\n",
        "        x0 = x1\n",
        "        x1 = xn\n",
        "\n",
        "        # Incremento en el contador de iteraciones\n",
        "        n += 1\n",
        "\n",
        "    # Si se sale del bucle sin haber encontrado la raíz con los criterios de tolerancia, se imprime un mensaje\n",
        "    else:\n",
        "        print(\"El valor aproximado de tu raíz es \" + str(x1))\n"
      ],
      "metadata": {
        "id": "NPYkpd4NEPvO"
      },
      "execution_count": 4,
      "outputs": []
    },
    {
      "cell_type": "markdown",
      "source": [
        "# c) Newton-Raphson"
      ],
      "metadata": {
        "id": "M5f4rFDlEpg0"
      }
    },
    {
      "cell_type": "code",
      "source": [
        "def Newton(f, df, Tol, N, x0):\n",
        "    \"\"\"\n",
        "    Encuentra una raíz de la función `f` utilizando el método de Newton-Raphson.\n",
        "\n",
        "    Parámetros:\n",
        "    f (function): La función a la cual se le quiere encontrar la raíz.\n",
        "    df (function): La derivada de la función `f`.\n",
        "    Tol (float): La tolerancia para considerar una solución como suficientemente precisa.\n",
        "    N (int): El número máximo de iteraciones para realizar.\n",
        "    x0 (float): El punto de inicio o condición inicial para el método.\n",
        "\n",
        "    Retorna:\n",
        "    float: La raíz aproximada de la función.\n",
        "\n",
        "    Excepciones:\n",
        "    Imprime un mensaje si el método no converge en el número máximo de iteraciones.\n",
        "    \"\"\"\n",
        "    # Inicializa el contador de iteraciones\n",
        "    Iter = 0\n",
        "\n",
        "    # Bucle de iteración hasta alcanzar el número máximo de iteraciones\n",
        "    while Iter <= N:\n",
        "        # Calcula el valor de la función y su derivada en el punto actual x0\n",
        "        fx = f(x0)\n",
        "        dfx = df(x0)\n",
        "\n",
        "        # Calcula el siguiente punto utilizando la fórmula de Newton-Raphson\n",
        "        xn = x0 - (fx / float(dfx))\n",
        "\n",
        "        # Verifica si se cumple el criterio de parada: la función y el cambio en x son menores que la tolerancia\n",
        "        if abs(f(xn)) <= Tol and abs(xn - x0) <= Tol:\n",
        "            print(\"Tu raíz es \" + str(xn))\n",
        "            return xn\n",
        "\n",
        "        # Actualiza x0 para la siguiente iteración\n",
        "        x0 = xn\n",
        "\n",
        "        # Incrementa el contador de iteraciones\n",
        "        Iter += 1\n",
        "\n",
        "    # Si se alcanzó el número máximo de iteraciones, imprime un mensaje con la raíz aproximada\n",
        "    else:\n",
        "        print(\"El valor aproximado de tu raíz es \" + str(xn))\n"
      ],
      "metadata": {
        "id": "JRn4YYZjEvIV"
      },
      "execution_count": 6,
      "outputs": []
    },
    {
      "cell_type": "markdown",
      "source": [
        "# d) Regla Falsa"
      ],
      "metadata": {
        "id": "a1qcsKKcFeXU"
      }
    },
    {
      "cell_type": "code",
      "source": [
        "def ReglaFalsa(Tol, N, f, a, b):\n",
        "    \"\"\"\n",
        "    Encuentra una raíz de la función `f` en el intervalo [a, b] utilizando el método de la regla falsa.\n",
        "\n",
        "    Parámetros:\n",
        "    Tol (float): La tolerancia para considerar una solución como suficientemente precisa.\n",
        "    N (int): El número máximo de iteraciones para realizar.\n",
        "    f (function): La función a la cual se le quiere encontrar la raíz.\n",
        "    a (float): El extremo izquierdo del intervalo.\n",
        "    b (float): El extremo derecho del intervalo.\n",
        "\n",
        "    Retorna:\n",
        "    float: La raíz aproximada de la función en el intervalo [a, b].\n",
        "\n",
        "    Excepciones:\n",
        "    Imprime un mensaje si la función no tiene raíces en el intervalo.\n",
        "    \"\"\"\n",
        "    # Calcula los valores de la función en los extremos del intervalo\n",
        "    fa, fb = f(a), f(b)\n",
        "\n",
        "    # Verifica si hay un cambio de signo en el intervalo para garantizar que existe una raíz\n",
        "    if fa * fb > 0.0:\n",
        "        print(\"No tiene raíces en el intervalo\")\n",
        "        return None\n",
        "\n",
        "    # Inicializa el punto de la iteración y el contador de iteraciones\n",
        "    x0 = 0.0\n",
        "    Iter = 0\n",
        "\n",
        "    # Bucle de iteración que se ejecuta hasta alcanzar el número máximo de iteraciones\n",
        "    while Iter <= N:\n",
        "        # Calcula el siguiente punto de aproximación utilizando la fórmula de la regla falsa\n",
        "        x1 = (a * fb - b * fa) / (fb - fa)\n",
        "        fx1 = f(x1)\n",
        "\n",
        "        # Verifica si el valor de la función en el punto de aproximación es menor que la tolerancia\n",
        "        # y si el cambio en x es menor que la tolerancia\n",
        "        if abs(fx1) <= Tol and abs(x1 - x0) <= Tol:\n",
        "            print(\"Tu raíz es \" + str(x1))\n",
        "            return x1\n",
        "\n",
        "        # Actualiza los extremos del intervalo según el signo de la función en el punto de aproximación\n",
        "        if fa * fx1 < 0:\n",
        "            b = x1\n",
        "        elif fx1 * fb < 0:\n",
        "            a = x1\n",
        "\n",
        "        # Actualiza el valor de x0 y el contador de iteraciones\n",
        "        x0 = x1\n",
        "        Iter += 1\n",
        "\n",
        "    # Si se llega al final del bucle sin haber encontrado la raíz, imprime un mensaje con la raíz aproximada\n",
        "    else:\n",
        "        print(\"El valor aproximado de tu raíz es \" + str(x1))\n",
        "        return x1\n"
      ],
      "metadata": {
        "id": "Ba-DJYEwFlnw"
      },
      "execution_count": 7,
      "outputs": []
    }
  ]
}