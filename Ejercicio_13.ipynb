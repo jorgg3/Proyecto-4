{
  "nbformat": 4,
  "nbformat_minor": 0,
  "metadata": {
    "colab": {
      "provenance": [],
      "authorship_tag": "ABX9TyP6FoN7HmzzQEjNnWLaWeKV",
      "include_colab_link": true
    },
    "kernelspec": {
      "name": "python3",
      "display_name": "Python 3"
    },
    "language_info": {
      "name": "python"
    }
  },
  "cells": [
    {
      "cell_type": "markdown",
      "metadata": {
        "id": "view-in-github",
        "colab_type": "text"
      },
      "source": [
        "<a href=\"https://colab.research.google.com/github/jorgg3/Proyecto-4/blob/main/Ejercicio_13.ipynb\" target=\"_parent\"><img src=\"https://colab.research.google.com/assets/colab-badge.svg\" alt=\"Open In Colab\"/></a>"
      ]
    },
    {
      "cell_type": "markdown",
      "source": [
        "# Práctica 4: Solución a Sistemas de Ecuaciones No Lineales.\n",
        "# Ceros de funciones\n",
        "**Problemas Computacionales**\\\n",
        "Alumno: Martínez de la Cruz José Jorge\\\n",
        "Profesor: César Carreón Otañez\\\n",
        "Ayudante:  Jesús Iván Coss Calderón"
      ],
      "metadata": {
        "id": "oI039CDQG5M5"
      }
    },
    {
      "cell_type": "code",
      "source": [
        "import numpy as np\n",
        "import math\n",
        "from numpy import linalg as LA"
      ],
      "metadata": {
        "id": "bf0apSIEHNfJ"
      },
      "execution_count": null,
      "outputs": []
    },
    {
      "cell_type": "markdown",
      "source": [
        "13. Resolver los siguientes sistemas programando el Método de Newton para varias variables."
      ],
      "metadata": {
        "id": "RWUHWZeMG6k_"
      }
    },
    {
      "cell_type": "markdown",
      "source": [
        "a) Puntos iniciales $x_1 = 15$ y $x_2 = −2$\n",
        "$$\n",
        "x_1 + x_2(x_2(5 − x_2) − 2) =13\n",
        "$$\n",
        "$$\n",
        "x_1 + x_2(x_2(1 + x_2) + 14) =29\n",
        "$$"
      ],
      "metadata": {
        "id": "DSv04HJYAMWc"
      }
    },
    {
      "cell_type": "code",
      "source": [
        "# funcion f1\n",
        "def f1(x1, x2):\n",
        "    return x1+x2*(x2*(5-x2)-2)-13\n",
        "\n",
        "# funcion f2\n",
        "def f2(x1, x2):\n",
        "    return x1+x2*(x2*(1+x2)+14)-29\n",
        "\n",
        "#definimos la parcial de f1 respecto a x2\n",
        "\n",
        "def parcf1x2(x1, x2):\n",
        "    return 5*x2**2 - x2**3 - 2x2\n",
        "\n",
        "#definimos la parcial de f2 respecto a x2\n",
        "\n",
        "def parcf2x2(x1, x2):\n",
        "    return x2**2 +"
      ],
      "metadata": {
        "id": "zk41OjHcAk6X"
      },
      "execution_count": null,
      "outputs": []
    }
  ]
}