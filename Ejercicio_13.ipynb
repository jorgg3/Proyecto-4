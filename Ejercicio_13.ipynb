{
  "nbformat": 4,
  "nbformat_minor": 0,
  "metadata": {
    "colab": {
      "provenance": [],
      "authorship_tag": "ABX9TyMZjhGNYLQsgVOsVKR6zePq",
      "include_colab_link": true
    },
    "kernelspec": {
      "name": "python3",
      "display_name": "Python 3"
    },
    "language_info": {
      "name": "python"
    }
  },
  "cells": [
    {
      "cell_type": "markdown",
      "metadata": {
        "id": "view-in-github",
        "colab_type": "text"
      },
      "source": [
        "<a href=\"https://colab.research.google.com/github/jorgg3/Proyecto-4/blob/main/Ejercicio_13.ipynb\" target=\"_parent\"><img src=\"https://colab.research.google.com/assets/colab-badge.svg\" alt=\"Open In Colab\"/></a>"
      ]
    },
    {
      "cell_type": "markdown",
      "source": [
        "# Práctica 4: Solución a Sistemas de Ecuaciones No Lineales.\n",
        "# Ceros de funciones\n",
        "**Problemas Computacionales**\\\n",
        "Alumno: Martínez de la Cruz José Jorge\\\n",
        "Profesor: César Carreón Otañez\\\n",
        "Ayudante:  Jesús Iván Coss Calderón"
      ],
      "metadata": {
        "id": "oI039CDQG5M5"
      }
    },
    {
      "cell_type": "code",
      "source": [
        "import numpy as np\n",
        "import math\n",
        "from numpy import linalg as LA"
      ],
      "metadata": {
        "id": "bf0apSIEHNfJ"
      },
      "execution_count": 4,
      "outputs": []
    },
    {
      "cell_type": "markdown",
      "source": [
        "13. Resolver los siguientes sistemas programando el Método de Newton para varias variables."
      ],
      "metadata": {
        "id": "RWUHWZeMG6k_"
      }
    },
    {
      "cell_type": "markdown",
      "source": [
        "a) Puntos iniciales $x_1 = 15$ y $x_2 = −2$\n",
        "$$\n",
        "x_1 + x_2(x_2(5 − x_2) − 2) =13\n",
        "$$\n",
        "$$\n",
        "x_1 + x_2(x_2(1 + x_2) + 14) =29\n",
        "$$"
      ],
      "metadata": {
        "id": "DSv04HJYAMWc"
      }
    },
    {
      "cell_type": "code",
      "source": [
        "# funcion f1\n",
        "def f1(x1, x2):\n",
        "    return x1+x2*(x2*(5-x2)-2)-13\n",
        "\n",
        "# funcion f2\n",
        "def f2(x1, x2):\n",
        "    return x1+x2*(x2*(1+x2)+14)-29\n",
        "\n",
        "#definimos la parcial de f1 respecto a x2\n",
        "\n",
        "def parcf1x2(x1, x2):\n",
        "    return 10*x2 - 3*x2**2 -2\n",
        "\n",
        "#definimos la parcial de f2 respecto a x2\n",
        "\n",
        "def parcf2x2(x1, x2):\n",
        "    return 2*x2 + 3*x2**2 + 14"
      ],
      "metadata": {
        "id": "zk41OjHcAk6X"
      },
      "execution_count": 5,
      "outputs": []
    },
    {
      "cell_type": "code",
      "source": [
        "\n",
        "def NewtonVarias(aprox):\n",
        "    # contador de iteraciones\n",
        "    n = 0\n",
        "    while n < 100: # maximo numero de iteraciones 100\n",
        "        '''es necesario calcular la matriz jacobiana\n",
        "        y para ello se necesita una matriz vacia de 2x2'''\n",
        "        jacob = np.zeros([2,2])\n",
        "\n",
        "        # valores de la matriz jacobiana en todas sus entradas\n",
        "        jacob[0][0] = 1\n",
        "        jacob[0][1] = parcf1x2(aprox[0], aprox[1])\n",
        "        jacob[1][0] = 1\n",
        "        jacob[1][1] = parcf1x2(aprox[0], aprox[1])\n",
        "\n",
        "        # guarda la evalucion de f1 y f2 en forma de vector\n",
        "        fx = np.array(aprox)\n",
        "        fx[0] = f1(aprox[0], aprox[1])\n",
        "        fx[1] = f2(aprox[0], aprox[1])\n",
        "\n",
        "        # FORMA ITERATIVA DEL METODO DE NEWTON PARA SISTEMAS NO LIENALES\n",
        "        aprox = aprox - LA.solve(jacob, fx)\n",
        "\n",
        "        # se incrementa el contador\n",
        "        n+=1\n",
        "\n",
        "    # El valor devuelto es la aproximacion\n",
        "    return aprox"
      ],
      "metadata": {
        "id": "hzkHLb5FDQuB"
      },
      "execution_count": 6,
      "outputs": []
    },
    {
      "cell_type": "code",
      "source": [
        "aprox = np.array([15, -2])"
      ],
      "metadata": {
        "id": "-mf-7GMCFYP3"
      },
      "execution_count": 19,
      "outputs": []
    },
    {
      "cell_type": "code",
      "source": [
        "jacob = np.zeros([2,2])\n",
        "jacob[0][0] = 1\n",
        "jacob[0][1] = parcf1x2(aprox[0], aprox[1])\n",
        "jacob[1][0] = 1\n",
        "jacob[1][1] = parcf1x2(aprox[0], aprox[1])"
      ],
      "metadata": {
        "id": "ckXIfgjFEsKO"
      },
      "execution_count": 20,
      "outputs": []
    },
    {
      "cell_type": "code",
      "source": [
        "print(jacob)"
      ],
      "metadata": {
        "colab": {
          "base_uri": "https://localhost:8080/"
        },
        "id": "hR0826_SEzam",
        "outputId": "947b846e-4207-41c7-ebe4-5f39f015eefd"
      },
      "execution_count": 21,
      "outputs": [
        {
          "output_type": "stream",
          "name": "stdout",
          "text": [
            "[[  1. -34.]\n",
            " [  1. -34.]]\n"
          ]
        }
      ]
    },
    {
      "cell_type": "markdown",
      "source": [
        "La matríz jacobiana no es de rango completo, por lo tanto no es invertible, entonces, no es posible encontrar una solución con las condiciones iniciales."
      ],
      "metadata": {
        "id": "8hoq0ZA0E6X0"
      }
    },
    {
      "cell_type": "code",
      "source": [
        "aprox = np.array([3, 5])"
      ],
      "metadata": {
        "id": "SIg2Vv4sFeIr"
      },
      "execution_count": 25,
      "outputs": []
    },
    {
      "cell_type": "code",
      "source": [
        "jacob = np.zeros([2,2])\n",
        "jacob[0][0] = 1\n",
        "jacob[0][1] = parcf1x2(aprox[0], aprox[1])\n",
        "jacob[1][0] = 1\n",
        "jacob[1][1] = parcf1x2(aprox[0], aprox[1])\n",
        "print(jacob)"
      ],
      "metadata": {
        "colab": {
          "base_uri": "https://localhost:8080/"
        },
        "id": "YiETUZV8FmFS",
        "outputId": "3bdeb5a5-23ad-4b3c-e16e-b23d11446716"
      },
      "execution_count": 26,
      "outputs": [
        {
          "output_type": "stream",
          "name": "stdout",
          "text": [
            "[[  1. -27.]\n",
            " [  1. -27.]]\n"
          ]
        }
      ]
    },
    {
      "cell_type": "markdown",
      "source": [
        "Como los valores de la segunda columna solo dependen de x2, no podremos encontrar una matríz jacobiana que sea invertible."
      ],
      "metadata": {
        "id": "A0V0MboBFvQn"
      }
    },
    {
      "cell_type": "markdown",
      "source": [
        "b)  Puntos iniciales $x_1 = \\frac{(1 + \\sqrt 3)}{2}$, $x_2 = \\frac{(1 −\\sqrt 3)}{2}$ y $x_3 = \\sqrt 3$\n",
        "$$\n",
        "x_1^2 + x_2^2 + x_3^2 = 5\n",
        "$$\n",
        "$$\n",
        "x_1 + x_2 = 1\n",
        "$$\n",
        "$$\n",
        "x_1 + x_3 = 1\n",
        "$$"
      ],
      "metadata": {
        "id": "WKSdNFHFF6bA"
      }
    },
    {
      "cell_type": "code",
      "source": [
        "# funcion f1\n",
        "def f1(x1, x2, x3):\n",
        "    return x1**2 + x2**2 + x3**-5\n",
        "\n",
        "# funcion f2\n",
        "def f2(x1, x2, x3):\n",
        "    return x1 + x2 - 1\n",
        "\n",
        "# funcion f3\n",
        "def f3(x1, x2, x3):\n",
        "    return x1 + x3 - 1\n",
        "\n",
        "#definimos la matríz jacobiana:\n",
        "\n",
        "def jacob(x1, x2, x3):\n",
        "    jacob = np.zeros([3,3])\n",
        "    jacob[0][0] = 2*x1\n",
        "    jacob[0][1] = 2*x2\n",
        "    jacob[0][2] = 2*x3\n",
        "    jacob[1][0] = 1\n",
        "    jacob[1][1] = 1\n",
        "    jacob[1][2] = 0\n",
        "    jacob[2][0] = 1\n",
        "    jacob[2][1] = 0\n",
        "    jacob[2][2] = 1\n",
        "    return jacob\n"
      ],
      "metadata": {
        "id": "TBFQ96azIBMA"
      },
      "execution_count": 31,
      "outputs": []
    },
    {
      "cell_type": "code",
      "source": [
        "def NewtonVarias(aprox):\n",
        "    # contador de iteraciones\n",
        "    n = 0\n",
        "    while n < 100: # maximo numero de iteraciones 100\n",
        "        # guarda la evalucion de f1 y f2 en forma de vector\n",
        "        fx = np.array(aprox)\n",
        "        fx[0] = f1(aprox[0], aprox[1], aprox[2])\n",
        "        fx[1] = f2(aprox[0], aprox[1], aprox[2])\n",
        "        fx[2] = f3(aprox[0], aprox[1], aprox[2])\n",
        "\n",
        "        # FORMA ITERATIVA DEL METODO DE NEWTON PARA SISTEMAS NO LIENALES\n",
        "        aprox = aprox - LA.solve(jacob(aprox[0], aprox[1], aprox[2]), fx)\n",
        "\n",
        "        # se incrementa el contador\n",
        "        n+=1\n",
        "\n",
        "    # El valor devuelto es la aproximacion\n",
        "    return aprox"
      ],
      "metadata": {
        "id": "3fKhwDncJD0V"
      },
      "execution_count": 41,
      "outputs": []
    },
    {
      "cell_type": "code",
      "source": [
        "aprox = np.array([(1+(3)**(1/2))/2, (1-(3)**(1/2))/2, 3**(1/2)])"
      ],
      "metadata": {
        "id": "AsuVuR0yJWBy"
      },
      "execution_count": 42,
      "outputs": []
    },
    {
      "cell_type": "code",
      "source": [
        "jacob(aprox[0], aprox[1], aprox[2])"
      ],
      "metadata": {
        "colab": {
          "base_uri": "https://localhost:8080/"
        },
        "id": "2VQubRDdJoIu",
        "outputId": "671b3d80-7c79-457d-ffef-a7dc69fb7252"
      },
      "execution_count": 44,
      "outputs": [
        {
          "output_type": "execute_result",
          "data": {
            "text/plain": [
              "array([[ 2.73205081, -0.73205081,  3.46410162],\n",
              "       [ 1.        ,  1.        ,  0.        ],\n",
              "       [ 1.        ,  0.        ,  1.        ]])"
            ]
          },
          "metadata": {},
          "execution_count": 44
        }
      ]
    },
    {
      "cell_type": "code",
      "source": [
        "fx = np.array(aprox)\n",
        "fx[0] = f1(aprox[0], aprox[1], aprox[2])\n",
        "fx[1] = f2(aprox[0], aprox[1], aprox[2])\n",
        "fx[2] = f3(aprox[0], aprox[1], aprox[2])\n"
      ],
      "metadata": {
        "id": "oDShu6J8LY5S"
      },
      "execution_count": 46,
      "outputs": []
    },
    {
      "cell_type": "code",
      "source": [
        "LA.solve(jacob(aprox[0], aprox[1], aprox[2]), fx)"
      ],
      "metadata": {
        "colab": {
          "base_uri": "https://localhost:8080/",
          "height": 287
        },
        "id": "ePWgrlwZLa78",
        "outputId": "95f7f82d-eb9e-4e73-ff4d-728c5372f8aa"
      },
      "execution_count": 48,
      "outputs": [
        {
          "output_type": "error",
          "ename": "LinAlgError",
          "evalue": "Singular matrix",
          "traceback": [
            "\u001b[0;31m---------------------------------------------------------------------------\u001b[0m",
            "\u001b[0;31mLinAlgError\u001b[0m                               Traceback (most recent call last)",
            "\u001b[0;32m<ipython-input-48-7fdb636806ee>\u001b[0m in \u001b[0;36m<cell line: 1>\u001b[0;34m()\u001b[0m\n\u001b[0;32m----> 1\u001b[0;31m \u001b[0mLA\u001b[0m\u001b[0;34m.\u001b[0m\u001b[0msolve\u001b[0m\u001b[0;34m(\u001b[0m\u001b[0mjacob\u001b[0m\u001b[0;34m(\u001b[0m\u001b[0maprox\u001b[0m\u001b[0;34m[\u001b[0m\u001b[0;36m0\u001b[0m\u001b[0;34m]\u001b[0m\u001b[0;34m,\u001b[0m \u001b[0maprox\u001b[0m\u001b[0;34m[\u001b[0m\u001b[0;36m1\u001b[0m\u001b[0;34m]\u001b[0m\u001b[0;34m,\u001b[0m \u001b[0maprox\u001b[0m\u001b[0;34m[\u001b[0m\u001b[0;36m2\u001b[0m\u001b[0;34m]\u001b[0m\u001b[0;34m)\u001b[0m\u001b[0;34m,\u001b[0m \u001b[0mfx\u001b[0m\u001b[0;34m)\u001b[0m\u001b[0;34m\u001b[0m\u001b[0;34m\u001b[0m\u001b[0m\n\u001b[0m",
            "\u001b[0;32m/usr/local/lib/python3.10/dist-packages/numpy/linalg/linalg.py\u001b[0m in \u001b[0;36msolve\u001b[0;34m(a, b)\u001b[0m\n\u001b[1;32m    407\u001b[0m     \u001b[0msignature\u001b[0m \u001b[0;34m=\u001b[0m \u001b[0;34m'DD->D'\u001b[0m \u001b[0;32mif\u001b[0m \u001b[0misComplexType\u001b[0m\u001b[0;34m(\u001b[0m\u001b[0mt\u001b[0m\u001b[0;34m)\u001b[0m \u001b[0;32melse\u001b[0m \u001b[0;34m'dd->d'\u001b[0m\u001b[0;34m\u001b[0m\u001b[0;34m\u001b[0m\u001b[0m\n\u001b[1;32m    408\u001b[0m     \u001b[0mextobj\u001b[0m \u001b[0;34m=\u001b[0m \u001b[0mget_linalg_error_extobj\u001b[0m\u001b[0;34m(\u001b[0m\u001b[0m_raise_linalgerror_singular\u001b[0m\u001b[0;34m)\u001b[0m\u001b[0;34m\u001b[0m\u001b[0;34m\u001b[0m\u001b[0m\n\u001b[0;32m--> 409\u001b[0;31m     \u001b[0mr\u001b[0m \u001b[0;34m=\u001b[0m \u001b[0mgufunc\u001b[0m\u001b[0;34m(\u001b[0m\u001b[0ma\u001b[0m\u001b[0;34m,\u001b[0m \u001b[0mb\u001b[0m\u001b[0;34m,\u001b[0m \u001b[0msignature\u001b[0m\u001b[0;34m=\u001b[0m\u001b[0msignature\u001b[0m\u001b[0;34m,\u001b[0m \u001b[0mextobj\u001b[0m\u001b[0;34m=\u001b[0m\u001b[0mextobj\u001b[0m\u001b[0;34m)\u001b[0m\u001b[0;34m\u001b[0m\u001b[0;34m\u001b[0m\u001b[0m\n\u001b[0m\u001b[1;32m    410\u001b[0m \u001b[0;34m\u001b[0m\u001b[0m\n\u001b[1;32m    411\u001b[0m     \u001b[0;32mreturn\u001b[0m \u001b[0mwrap\u001b[0m\u001b[0;34m(\u001b[0m\u001b[0mr\u001b[0m\u001b[0;34m.\u001b[0m\u001b[0mastype\u001b[0m\u001b[0;34m(\u001b[0m\u001b[0mresult_t\u001b[0m\u001b[0;34m,\u001b[0m \u001b[0mcopy\u001b[0m\u001b[0;34m=\u001b[0m\u001b[0;32mFalse\u001b[0m\u001b[0;34m)\u001b[0m\u001b[0;34m)\u001b[0m\u001b[0;34m\u001b[0m\u001b[0;34m\u001b[0m\u001b[0m\n",
            "\u001b[0;32m/usr/local/lib/python3.10/dist-packages/numpy/linalg/linalg.py\u001b[0m in \u001b[0;36m_raise_linalgerror_singular\u001b[0;34m(err, flag)\u001b[0m\n\u001b[1;32m    110\u001b[0m \u001b[0;34m\u001b[0m\u001b[0m\n\u001b[1;32m    111\u001b[0m \u001b[0;32mdef\u001b[0m \u001b[0m_raise_linalgerror_singular\u001b[0m\u001b[0;34m(\u001b[0m\u001b[0merr\u001b[0m\u001b[0;34m,\u001b[0m \u001b[0mflag\u001b[0m\u001b[0;34m)\u001b[0m\u001b[0;34m:\u001b[0m\u001b[0;34m\u001b[0m\u001b[0;34m\u001b[0m\u001b[0m\n\u001b[0;32m--> 112\u001b[0;31m     \u001b[0;32mraise\u001b[0m \u001b[0mLinAlgError\u001b[0m\u001b[0;34m(\u001b[0m\u001b[0;34m\"Singular matrix\"\u001b[0m\u001b[0;34m)\u001b[0m\u001b[0;34m\u001b[0m\u001b[0;34m\u001b[0m\u001b[0m\n\u001b[0m\u001b[1;32m    113\u001b[0m \u001b[0;34m\u001b[0m\u001b[0m\n\u001b[1;32m    114\u001b[0m \u001b[0;32mdef\u001b[0m \u001b[0m_raise_linalgerror_nonposdef\u001b[0m\u001b[0;34m(\u001b[0m\u001b[0merr\u001b[0m\u001b[0;34m,\u001b[0m \u001b[0mflag\u001b[0m\u001b[0;34m)\u001b[0m\u001b[0;34m:\u001b[0m\u001b[0;34m\u001b[0m\u001b[0;34m\u001b[0m\u001b[0m\n",
            "\u001b[0;31mLinAlgError\u001b[0m: Singular matrix"
          ]
        }
      ]
    },
    {
      "cell_type": "markdown",
      "source": [
        "La matríz Jacobiana también es singular, entonces, no podemos encontrar soluciones al sistema."
      ],
      "metadata": {
        "id": "AliJcJYBLfvv"
      }
    }
  ]
}