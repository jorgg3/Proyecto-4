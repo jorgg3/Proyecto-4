{
  "nbformat": 4,
  "nbformat_minor": 0,
  "metadata": {
    "colab": {
      "provenance": [],
      "authorship_tag": "ABX9TyMi3rpFrcJlP7gUV/2KoKzo",
      "include_colab_link": true
    },
    "kernelspec": {
      "name": "python3",
      "display_name": "Python 3"
    },
    "language_info": {
      "name": "python"
    }
  },
  "cells": [
    {
      "cell_type": "markdown",
      "metadata": {
        "id": "view-in-github",
        "colab_type": "text"
      },
      "source": [
        "<a href=\"https://colab.research.google.com/github/jorgg3/Proyecto-4/blob/main/Ejercicio_12.ipynb\" target=\"_parent\"><img src=\"https://colab.research.google.com/assets/colab-badge.svg\" alt=\"Open In Colab\"/></a>"
      ]
    },
    {
      "cell_type": "markdown",
      "source": [
        "# Práctica 4: Solución a Sistemas de Ecuaciones No Lineales.\n",
        "# Ceros de funciones\n",
        "**Problemas Computacionales**\\\n",
        "Alumno: Martínez de la Cruz José Jorge\\\n",
        "Profesor: César Carreón Otañez\\\n",
        "Ayudante:  Jesús Iván Coss Calderón"
      ],
      "metadata": {
        "id": "oI039CDQG5M5"
      }
    },
    {
      "cell_type": "code",
      "source": [
        "import numpy as np\n",
        "import math\n",
        "from numpy import linalg as LA"
      ],
      "metadata": {
        "id": "bf0apSIEHNfJ"
      },
      "execution_count": 44,
      "outputs": []
    },
    {
      "cell_type": "markdown",
      "source": [
        "12. El control de un determinado sistema eléctrico conduce a la resolución del siguiente sistema de ecuaciones no lineales:\n",
        "$$\n",
        "I \\cdot \\cos(\\phi) = \\frac{2}{3}\n",
        "$$\n",
        "$$\n",
        "\\cos(\\delta) + 0.91 \\cdot I \\cdot \\sin(\\phi + \\delta) = 1.22\n",
        "$$\n",
        "$$\n",
        "0.76 \\cdot I \\cdot \\cos(\\phi + \\delta) = \\sin(\\delta)\n",
        "$$\n",
        "Sabiendo que por consideraciones técnicas los  ́angulos $φ$ y $δ$ deben estar comprendidos entre $0$ y $π/2$ y que la densidad de corriente $I$ debe ser positiva, se pide resolver mediante el método de Newtonel sistema partiendo de los datos iniciales siguientes:"
      ],
      "metadata": {
        "id": "RWUHWZeMG6k_"
      }
    },
    {
      "cell_type": "code",
      "source": [
        "# funcion f1\n",
        "def f1(I, phi):\n",
        "    return I*np.cos(phi)-2/3\n",
        "\n",
        "# funcion f2\n",
        "def f2(I, phi, delta):\n",
        "    return np.cos(delta)+0.91*I*np.sin(phi+delta)-1.22\n",
        "\n",
        "# parcial (en este caso la parcial de f1 y f2 es la misma)\n",
        "def par(x):\n",
        "    return 2+math.e**(-x)"
      ],
      "metadata": {
        "id": "LaKxPRbv-7hK"
      },
      "execution_count": null,
      "outputs": []
    }
  ]
}