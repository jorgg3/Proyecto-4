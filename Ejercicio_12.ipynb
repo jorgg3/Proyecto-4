{
  "nbformat": 4,
  "nbformat_minor": 0,
  "metadata": {
    "colab": {
      "provenance": [],
      "authorship_tag": "ABX9TyOjcymvjnyL0QsovV9XzbVq",
      "include_colab_link": true
    },
    "kernelspec": {
      "name": "python3",
      "display_name": "Python 3"
    },
    "language_info": {
      "name": "python"
    }
  },
  "cells": [
    {
      "cell_type": "markdown",
      "metadata": {
        "id": "view-in-github",
        "colab_type": "text"
      },
      "source": [
        "<a href=\"https://colab.research.google.com/github/jorgg3/Proyecto-4/blob/main/Ejercicio_12.ipynb\" target=\"_parent\"><img src=\"https://colab.research.google.com/assets/colab-badge.svg\" alt=\"Open In Colab\"/></a>"
      ]
    },
    {
      "cell_type": "markdown",
      "source": [
        "# Práctica 4: Solución a Sistemas de Ecuaciones No Lineales.\n",
        "# Ceros de funciones\n",
        "**Problemas Computacionales**\\\n",
        "Alumno: Martínez de la Cruz José Jorge\\\n",
        "Profesor: César Carreón Otañez\\\n",
        "Ayudante:  Jesús Iván Coss Calderón"
      ],
      "metadata": {
        "id": "oI039CDQG5M5"
      }
    },
    {
      "cell_type": "code",
      "source": [
        "import numpy as np\n",
        "import math\n",
        "from numpy import linalg as LA"
      ],
      "metadata": {
        "id": "bf0apSIEHNfJ"
      },
      "execution_count": 44,
      "outputs": []
    },
    {
      "cell_type": "markdown",
      "source": [
        "12. El control de un determinado sistema eléctrico conduce a la resolución del siguiente sistema de ecuaciones no lineales:\n",
        "$$\n",
        "I \\cdot \\cos(\\phi) = \\frac{2}{3}\n",
        "$$\n",
        "$$\n",
        "\\cos(\\delta) + 0.91 \\cdot I \\cdot \\sin(\\phi + \\delta) = 1.22\n",
        "$$\n",
        "$$\n",
        "0.76 \\cdot I \\cdot \\cos(\\phi + \\delta) = \\sin(\\delta)\n",
        "$$\n",
        "Sabiendo que por consideraciones técnicas los  ́angulos $φ$ y $δ$ deben estar comprendidos entre $0$ y $π/2$ y que la densidad de corriente $I$ debe ser positiva, se pide resolver mediante el método de Newtonel sistema partiendo de los datos iniciales siguientes:"
      ],
      "metadata": {
        "id": "RWUHWZeMG6k_"
      }
    },
    {
      "cell_type": "code",
      "source": [
        "# funcion f1\n",
        "def f1(I, phi, delta):\n",
        "    return I*np.cos(phi)-2/3\n",
        "\n",
        "# funcion f2\n",
        "def f2(I, phi, delta):\n",
        "    return np.cos(delta)+0.91*I*np.sin(phi+delta)-1.22\n",
        "\n",
        "#funcion f3\n",
        "def f3(I, phi, delta):\n",
        "    return 0.76*I*np.cos(phi+delta)-np.sin(delta)\n",
        "\n",
        "def jacob(I, phi, delta):\n",
        "    jacob = np.zeros([3,3])\n",
        "    jacob[0][0] =  np.cos(phi)\n",
        "    jacob[0][1] = -I*np.sin(phi)\n",
        "    jacob[0][2] = 0\n",
        "    jacob[1][0] = 0.91*np.sin(phi+delta)\n",
        "    jacob[1][1] = 0.91*I*np.cos(phi+delta)\n",
        "    jacob[1][2] = -np.sin(delta) + 0.91*I*np.cos(phi+delta)\n",
        "    jacob[2][0] = 0.76*I*np.cos(phi+delta)\n",
        "    jacob[2][1] = -0.76*I*np.sin(phi+delta)\n",
        "    jacob[2][2] = -0.76*I*np.sin(phi+delta)- np.cos(delta)\n",
        "    return jacob"
      ],
      "metadata": {
        "id": "LaKxPRbv-7hK"
      },
      "execution_count": 50,
      "outputs": []
    },
    {
      "cell_type": "code",
      "source": [
        "def NewtonVarias(aprox):\n",
        "    # contador de iteraciones\n",
        "    n = 0\n",
        "    while n < 100: # maximo numero de iteraciones 100\n",
        "        # guarda la evalucion de f1 y f2 en forma de vector\n",
        "        fx = np.array(aprox)\n",
        "        fx[0] = f1(aprox[0], aprox[1], aprox[2])\n",
        "        fx[1] = f2(aprox[0], aprox[1], aprox[2])\n",
        "        fx[2] = f3(aprox[0], aprox[1], aprox[2])\n",
        "\n",
        "        # FORMA ITERATIVA DEL METODO DE NEWTON PARA SISTEMAS NO LIENALES\n",
        "        aprox = aprox - LA.solve(jacob(aprox[0], aprox[1], aprox[2]), fx)\n",
        "\n",
        "        # se incrementa el contador\n",
        "        n+=1\n",
        "\n",
        "    # El valor devuelto es la aproximacion\n",
        "\n",
        "    return aprox"
      ],
      "metadata": {
        "id": "PSX1AZaMNlsm"
      },
      "execution_count": 54,
      "outputs": []
    },
    {
      "cell_type": "markdown",
      "source": [
        "a) $I = 1$, $φ = 0.1$ y $δ = 0.1$."
      ],
      "metadata": {
        "id": "TxeZQpItN4Oc"
      }
    },
    {
      "cell_type": "code",
      "source": [
        "aprox = np.array([1, 0.1, 0.1])\n",
        "print(f\"La solución es aproximadamente {NewtonVarias(aprox)}\")"
      ],
      "metadata": {
        "colab": {
          "base_uri": "https://localhost:8080/"
        },
        "id": "b9D3-mjcNrbV",
        "outputId": "5af9e649-5831-49ae-93d0-aebfe8d1e7e2"
      },
      "execution_count": 55,
      "outputs": [
        {
          "output_type": "stream",
          "name": "stdout",
          "text": [
            "La solución es aproximadamente [0.67013116 0.10172842 0.44894139]\n"
          ]
        }
      ]
    },
    {
      "cell_type": "markdown",
      "source": [
        "Evaluando en las tres funciones, tenemos:"
      ],
      "metadata": {
        "id": "nmUHp6MSOX1I"
      }
    },
    {
      "cell_type": "code",
      "source": [
        "f1(NewtonVarias(aprox)[0], NewtonVarias(aprox)[1], NewtonVarias(aprox)[2])"
      ],
      "metadata": {
        "colab": {
          "base_uri": "https://localhost:8080/"
        },
        "id": "3PiQjPAkOFAp",
        "outputId": "b2298000-737d-4be4-f528-bc303cf85bac"
      },
      "execution_count": 56,
      "outputs": [
        {
          "output_type": "execute_result",
          "data": {
            "text/plain": [
              "0.0"
            ]
          },
          "metadata": {},
          "execution_count": 56
        }
      ]
    },
    {
      "cell_type": "code",
      "source": [
        "f2(NewtonVarias(aprox)[0], NewtonVarias(aprox)[1], NewtonVarias(aprox)[2])"
      ],
      "metadata": {
        "colab": {
          "base_uri": "https://localhost:8080/"
        },
        "id": "kzXXM4asOfnN",
        "outputId": "eb9b552e-b888-48de-e7f9-c6a10b9e7229"
      },
      "execution_count": 57,
      "outputs": [
        {
          "output_type": "execute_result",
          "data": {
            "text/plain": [
              "0.0"
            ]
          },
          "metadata": {},
          "execution_count": 57
        }
      ]
    },
    {
      "cell_type": "code",
      "source": [
        "f3(NewtonVarias(aprox)[0], NewtonVarias(aprox)[1], NewtonVarias(aprox)[2])"
      ],
      "metadata": {
        "colab": {
          "base_uri": "https://localhost:8080/"
        },
        "id": "V21Tde2dOhGM",
        "outputId": "72ea4455-20af-42c0-f38d-762e4b2b8ca6"
      },
      "execution_count": 58,
      "outputs": [
        {
          "output_type": "execute_result",
          "data": {
            "text/plain": [
              "0.0"
            ]
          },
          "metadata": {},
          "execution_count": 58
        }
      ]
    },
    {
      "cell_type": "markdown",
      "source": [
        "b) $I = φ = δ = 1$"
      ],
      "metadata": {
        "id": "eqnFjJ4lO88v"
      }
    },
    {
      "cell_type": "code",
      "source": [
        "aprox = np.array([1, 1, 1])\n",
        "print(f\"La solución es aproximadamente {NewtonVarias(aprox)}\")"
      ],
      "metadata": {
        "colab": {
          "base_uri": "https://localhost:8080/"
        },
        "id": "Af0ID1mYPHqY",
        "outputId": "023064c0-dcb8-4509-9286-c91226479586"
      },
      "execution_count": 59,
      "outputs": [
        {
          "output_type": "stream",
          "name": "stdout",
          "text": [
            "La solución es aproximadamente [0.67013116 0.10172842 0.44894139]\n"
          ]
        }
      ]
    },
    {
      "cell_type": "markdown",
      "source": [
        "Encontramos que es la misma solución que con las condiciones iniciales anteriores, respecto a la admisibilidad, la corriente resulta ser positiva y los ángulos se quedan entre 0 y $π/2$ con lo que podemos que la solución cumple con las condiciones pedidas del problema."
      ],
      "metadata": {
        "id": "dJELLJsQPOgG"
      }
    }
  ]
}