{
  "nbformat": 4,
  "nbformat_minor": 0,
  "metadata": {
    "colab": {
      "provenance": [],
      "authorship_tag": "ABX9TyPz7IHc4mJZ4hKX0GdVmtIA",
      "include_colab_link": true
    },
    "kernelspec": {
      "name": "python3",
      "display_name": "Python 3"
    },
    "language_info": {
      "name": "python"
    }
  },
  "cells": [
    {
      "cell_type": "markdown",
      "metadata": {
        "id": "view-in-github",
        "colab_type": "text"
      },
      "source": [
        "<a href=\"https://colab.research.google.com/github/jorgg3/Proyecto-4/blob/main/Ejercicio_10ipynb.ipynb\" target=\"_parent\"><img src=\"https://colab.research.google.com/assets/colab-badge.svg\" alt=\"Open In Colab\"/></a>"
      ]
    },
    {
      "cell_type": "markdown",
      "source": [
        "# Práctica 4: Solución a Sistemas de Ecuaciones No Lineales.\n",
        "# Ceros de funciones\n",
        "**Problemas Computacionales**\\\n",
        "Alumno: Martínez de la Cruz José Jorge\\\n",
        "Profesor: César Carreón Otañez\\\n",
        "Ayudante:  Jesús Iván Coss Calderón"
      ],
      "metadata": {
        "id": "oI039CDQG5M5"
      }
    },
    {
      "cell_type": "code",
      "source": [
        "import numpy as np"
      ],
      "metadata": {
        "id": "bf0apSIEHNfJ"
      },
      "execution_count": 5,
      "outputs": []
    },
    {
      "cell_type": "markdown",
      "source": [
        "10. Calcular las raíces del ejercicio 9 con el método de Secante."
      ],
      "metadata": {
        "id": "RWUHWZeMG6k_"
      }
    },
    {
      "cell_type": "code",
      "execution_count": 30,
      "metadata": {
        "id": "5NX7t4EYG1pG"
      },
      "outputs": [],
      "source": [
        "def Secante(f, Tol, N, x0, x1):\n",
        "    \"\"\"\n",
        "    Encuentra una raíz de la función `f` utilizando el método de la secante.\n",
        "\n",
        "    Parámetros:\n",
        "    f (function): La función a la cual se le quiere encontrar la raíz.\n",
        "    Tol (float): La tolerancia para considerar una solución como suficientemente precisa.\n",
        "    N (int): El número máximo de iteraciones para realizar.\n",
        "    x0 (float): El primer punto inicial de la secante.\n",
        "    x1 (float): El segundo punto inicial de la secante.\n",
        "\n",
        "    Retorna:\n",
        "    float: La raíz aproximada de la función.\n",
        "\n",
        "    Excepciones:\n",
        "    Imprime un mensaje si el método no converge en el número máximo de iteraciones.\n",
        "    \"\"\"\n",
        "    # Contador de iteraciones\n",
        "    n = 1\n",
        "\n",
        "    # Bucle que se ejecuta hasta alcanzar el número máximo de iteraciones\n",
        "    while (N >= n):\n",
        "        # Cálculo de los valores de la función en los puntos x0 y x1\n",
        "        fx0, fx1 = f(x0), f(x1)\n",
        "\n",
        "        # Cálculo de la siguiente aproximación utilizando la fórmula de la secante\n",
        "        xn = x1 - fx1 * ((x1 - x0) / float(fx1 - fx0))\n",
        "\n",
        "        # Verificación de los criterios de parada: si el valor de la función es menor que la tolerancia\n",
        "        # y si la diferencia entre los puntos consecutivos es menor que la tolerancia\n",
        "        if (abs(f(xn)) <= Tol and abs(x0 - x1) <= Tol):\n",
        "            print(\"El valor de tu raíz es \" + str(xn))\n",
        "            return xn\n",
        "\n",
        "        # Actualización de los puntos para la siguiente iteración\n",
        "        x0 = x1\n",
        "        x1 = xn\n",
        "\n",
        "        # Incremento en el contador de iteraciones\n",
        "        n += 1\n",
        "\n",
        "    # Si se sale del bucle sin haber encontrado la raíz con los criterios de tolerancia, se imprime un mensaje\n",
        "    else:\n",
        "        print(\"El valor aproximado de tu raíz es \" + str(x1))\n"
      ]
    },
    {
      "cell_type": "markdown",
      "source": [
        "a) $f(x) = e^x + 2^{−x} + 2 \\cos(x) − 6 = 0$ para $1 ≤ x ≤ 2$"
      ],
      "metadata": {
        "id": "dSjuTpU_hL02"
      }
    },
    {
      "cell_type": "code",
      "source": [
        "# Definimos la función y su derivada\n",
        "f=lambda x: np.exp(x)+2**(-x)+2*np.cos(x)-6\n",
        "df= lambda x: np.exp(x)-2**(-x)*np.log(2)-2*np.sin(x)\n",
        "#Empleamos el método:\n",
        "x = Secante(f,1E-5,100,1.,2)\n",
        "f(x)"
      ],
      "metadata": {
        "colab": {
          "base_uri": "https://localhost:8080/"
        },
        "id": "cLCEL9W4inuY",
        "outputId": "b74cfe0d-7a8d-4c0c-de1e-acd72f359c79"
      },
      "execution_count": 31,
      "outputs": [
        {
          "output_type": "stream",
          "name": "stdout",
          "text": [
            "El valor de tu raíz es 1.8293836019338487\n"
          ]
        },
        {
          "output_type": "execute_result",
          "data": {
            "text/plain": [
              "0.0"
            ]
          },
          "metadata": {},
          "execution_count": 31
        }
      ]
    },
    {
      "cell_type": "markdown",
      "source": [
        "b) $f(x) = 2x \\cos(2x) − (x − 2)^2 = 0$ para $2 ≤ x ≤ 3$ y $3 ≤ x ≤ 4.$"
      ],
      "metadata": {
        "id": "Oa291aCkqgC4"
      }
    },
    {
      "cell_type": "code",
      "source": [
        "# Definimos la función y su derivada\n",
        "f=lambda x: 2*x*np.cos(2*x)-(x-2)**2\n",
        "df= lambda x: 2*np.cos(2*x)-4*np.sin(2*x)*x-2*x+4\n",
        "#Empleamos el método:\n",
        "x = Secante(f,1E-5,100,2., 3.)\n",
        "f(x)"
      ],
      "metadata": {
        "colab": {
          "base_uri": "https://localhost:8080/"
        },
        "id": "ZqRLxX0Eqqgv",
        "outputId": "69c6226f-3bbe-4b94-c934-1f5c2393cfef"
      },
      "execution_count": 32,
      "outputs": [
        {
          "output_type": "stream",
          "name": "stdout",
          "text": [
            "El valor de tu raíz es 2.370686917662262\n"
          ]
        },
        {
          "output_type": "execute_result",
          "data": {
            "text/plain": [
              "1.7208456881689926e-15"
            ]
          },
          "metadata": {},
          "execution_count": 32
        }
      ]
    },
    {
      "cell_type": "code",
      "source": [
        "# Definimos la función y su derivada\n",
        "f=lambda x: 2*x*np.cos(2*x)-(x-2)**2\n",
        "df= lambda x: 2*np.cos(2*x)-4*np.sin(2*x)*x-2*x+4\n",
        "#Empleamos el método:\n",
        "x = Secante(f,1E-5,100,3., 4.)\n",
        "f(x)"
      ],
      "metadata": {
        "colab": {
          "base_uri": "https://localhost:8080/"
        },
        "id": "_ilQnDqgrLTZ",
        "outputId": "a1437c7e-d6cd-49eb-adef-23d2888f89c5"
      },
      "execution_count": 33,
      "outputs": [
        {
          "output_type": "stream",
          "name": "stdout",
          "text": [
            "El valor de tu raíz es 3.7221127731017876\n"
          ]
        },
        {
          "output_type": "execute_result",
          "data": {
            "text/plain": [
              "3.9968028886505635e-15"
            ]
          },
          "metadata": {},
          "execution_count": 33
        }
      ]
    },
    {
      "cell_type": "markdown",
      "source": [
        "c) $f(x) = e^x − 3x^2 = 0$ para $0 ≤ x ≤ 1$ y $3 ≤ x ≤ 5$."
      ],
      "metadata": {
        "id": "aUaRqrCPsADC"
      }
    },
    {
      "cell_type": "code",
      "source": [
        "# Definimos la función y su derivada\n",
        "f=lambda x: np.exp(x)-3*x**2\n",
        "df= lambda x: np.exp(x)-6*x\n",
        "#Empleamos el método:\n",
        "x = Secante(f,1E-5,100,0.,1.)\n",
        "f(x)"
      ],
      "metadata": {
        "colab": {
          "base_uri": "https://localhost:8080/"
        },
        "id": "xLJUbIa1sdb1",
        "outputId": "645cf715-83d8-4419-8c91-7914cc027d47"
      },
      "execution_count": 34,
      "outputs": [
        {
          "output_type": "stream",
          "name": "stdout",
          "text": [
            "El valor de tu raíz es 0.9100075724887104\n"
          ]
        },
        {
          "output_type": "execute_result",
          "data": {
            "text/plain": [
              "-4.440892098500626e-15"
            ]
          },
          "metadata": {},
          "execution_count": 34
        }
      ]
    },
    {
      "cell_type": "code",
      "source": [
        "# Definimos la función y su derivada\n",
        "f=lambda x: np.exp(x)-3*x**2\n",
        "df= lambda x: np.exp(x)-6*x\n",
        "#Empleamos el método:\n",
        "x = Secante(f,1E-5,100,3.,5.)\n",
        "f(x)"
      ],
      "metadata": {
        "colab": {
          "base_uri": "https://localhost:8080/"
        },
        "id": "hEB_0GO2sn5T",
        "outputId": "5f985cb1-fd46-4eef-a47e-ca538a690ceb"
      },
      "execution_count": 35,
      "outputs": [
        {
          "output_type": "stream",
          "name": "stdout",
          "text": [
            "El valor de tu raíz es 3.733079028632801\n"
          ]
        },
        {
          "output_type": "execute_result",
          "data": {
            "text/plain": [
              "-2.5579538487363607e-13"
            ]
          },
          "metadata": {},
          "execution_count": 35
        }
      ]
    },
    {
      "cell_type": "markdown",
      "source": [
        "Tenemos que con ambos métodos, convergemos a las mismas raíces."
      ],
      "metadata": {
        "id": "CP2UjC6YuJYA"
      }
    }
  ]
}